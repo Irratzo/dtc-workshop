{
 "cells": [
  {
   "cell_type": "markdown",
   "id": "8ea2ee86",
   "metadata": {
    "papermill": {
     "duration": 0.002722,
     "end_time": "2022-08-31T12:41:30.604079",
     "exception": false,
     "start_time": "2022-08-31T12:41:30.601357",
     "status": "completed"
    },
    "tags": []
   },
   "source": [
    "# Pokemon type classifier\n",
    "\n",
    "This project takes a dataset with Pokémon sprites and trains a CNN to classify whether a Pokémon belongs to a certain type (e.g. water: true or false). It is meant as a demo to show how DVC can be used in deep learning scenarios."
   ]
  },
  {
   "cell_type": "markdown",
   "id": "9bb0a073",
   "metadata": {
    "papermill": {
     "duration": 0.001752,
     "end_time": "2022-08-31T12:41:30.607824",
     "exception": false,
     "start_time": "2022-08-31T12:41:30.606072",
     "status": "completed"
    },
    "tags": []
   },
   "source": [
    "## Imports and parameters"
   ]
  },
  {
   "cell_type": "code",
   "execution_count": 1,
   "id": "04cb1f0e",
   "metadata": {
    "execution": {
     "iopub.execute_input": "2022-08-31T12:41:30.612248Z",
     "iopub.status.busy": "2022-08-31T12:41:30.612024Z",
     "iopub.status.idle": "2022-08-31T12:41:33.038860Z",
     "shell.execute_reply": "2022-08-31T12:41:33.038532Z"
    },
    "papermill": {
     "duration": 2.430478,
     "end_time": "2022-08-31T12:41:33.039979",
     "exception": false,
     "start_time": "2022-08-31T12:41:30.609501",
     "status": "completed"
    },
    "tags": []
   },
   "outputs": [],
   "source": [
    "import math\n",
    "import os\n",
    "import re\n",
    "import shutil\n",
    "from pathlib import Path\n",
    "from typing import Optional\n",
    "\n",
    "import matplotlib.pyplot as plt\n",
    "import numpy as np\n",
    "import pandas as pd\n",
    "import pickle\n",
    "import tensorflow as tf\n",
    "from keras.layers import (Activation, BatchNormalization, Conv2D, Dense,\n",
    "                          Dropout, Flatten, MaxPooling2D)\n",
    "from keras.models import Sequential\n",
    "from keras.preprocessing import image\n",
    "from keras.utils import to_categorical\n",
    "from sklearn.metrics import (ConfusionMatrixDisplay, classification_report,\n",
    "                             confusion_matrix, log_loss)\n",
    "from sklearn.model_selection import train_test_split\n",
    "from tensorflow import keras\n",
    "from tensorflow.keras import layers, regularizers\n",
    "from tqdm import tqdm"
   ]
  },
  {
   "cell_type": "code",
   "execution_count": 2,
   "id": "832cd0f4",
   "metadata": {
    "execution": {
     "iopub.execute_input": "2022-08-31T12:41:33.044072Z",
     "iopub.status.busy": "2022-08-31T12:41:33.043823Z",
     "iopub.status.idle": "2022-08-31T12:41:33.046128Z",
     "shell.execute_reply": "2022-08-31T12:41:33.045741Z"
    },
    "papermill": {
     "duration": 0.005225,
     "end_time": "2022-08-31T12:41:33.046997",
     "exception": false,
     "start_time": "2022-08-31T12:41:33.041772",
     "status": "completed"
    },
    "tags": [
     "parameters"
    ]
   },
   "outputs": [],
   "source": [
    "POKEMON_TYPE_TRAIN: str = \"Water\"\n",
    "\n",
    "TRAIN_DATA_IMAGES: str = \"images-gen-1-8\"\n",
    "TRAIN_DATA_LABELS: str = \"pokemon-gen-1-8.csv\"\n",
    "\n",
    "MODEL_TEST_SIZE: float = 0.2\n",
    "MODEL_LEARNING_RATE: float = 0.001\n",
    "MODEL_EPOCHS: int = 10\n",
    "MODEL_BATCH_SIZE: int = 120"
   ]
  },
  {
   "cell_type": "code",
   "execution_count": 3,
   "id": "3189d179",
   "metadata": {
    "execution": {
     "iopub.execute_input": "2022-08-31T12:41:33.050652Z",
     "iopub.status.busy": "2022-08-31T12:41:33.050529Z",
     "iopub.status.idle": "2022-08-31T12:41:33.052923Z",
     "shell.execute_reply": "2022-08-31T12:41:33.052660Z"
    },
    "papermill": {
     "duration": 0.005261,
     "end_time": "2022-08-31T12:41:33.053795",
     "exception": false,
     "start_time": "2022-08-31T12:41:33.048534",
     "status": "completed"
    },
    "tags": []
   },
   "outputs": [],
   "source": [
    "def find_project_root() -> Optional[Path]:\n",
    "    current = Path(\".\").resolve()\n",
    "    \n",
    "    while True:\n",
    "        if (current / \".git\").exists():\n",
    "            return current\n",
    "        \n",
    "        if current.parent == current:\n",
    "            print(\"WARNING: No .git dir found\")\n",
    "            return current\n",
    "              \n",
    "        current = current.parent\n",
    "        \n",
    "\n",
    "PROJECT_ROOT = find_project_root()"
   ]
  },
  {
   "cell_type": "markdown",
   "id": "7cf2367b",
   "metadata": {
    "papermill": {
     "duration": 0.001417,
     "end_time": "2022-08-31T12:41:33.057561",
     "exception": false,
     "start_time": "2022-08-31T12:41:33.056144",
     "status": "completed"
    },
    "tags": []
   },
   "source": [
    "## Data preprocessing"
   ]
  },
  {
   "cell_type": "code",
   "execution_count": 4,
   "id": "e0ac9358",
   "metadata": {
    "execution": {
     "iopub.execute_input": "2022-08-31T12:41:33.061338Z",
     "iopub.status.busy": "2022-08-31T12:41:33.061194Z",
     "iopub.status.idle": "2022-08-31T12:41:33.125192Z",
     "shell.execute_reply": "2022-08-31T12:41:33.124785Z"
    },
    "papermill": {
     "duration": 0.067243,
     "end_time": "2022-08-31T12:41:33.126256",
     "exception": false,
     "start_time": "2022-08-31T12:41:33.059013",
     "status": "completed"
    },
    "tags": []
   },
   "outputs": [
    {
     "data": {
      "text/html": [
       "<div>\n",
       "<style scoped>\n",
       "    .dataframe tbody tr th:only-of-type {\n",
       "        vertical-align: middle;\n",
       "    }\n",
       "\n",
       "    .dataframe tbody tr th {\n",
       "        vertical-align: top;\n",
       "    }\n",
       "\n",
       "    .dataframe thead th {\n",
       "        text-align: right;\n",
       "    }\n",
       "</style>\n",
       "<table border=\"1\" class=\"dataframe\">\n",
       "  <thead>\n",
       "    <tr style=\"text-align: right;\">\n",
       "      <th></th>\n",
       "      <th>pokedex_number</th>\n",
       "      <th>name</th>\n",
       "      <th>type1</th>\n",
       "      <th>type2</th>\n",
       "      <th>isPoison</th>\n",
       "      <th>isGround</th>\n",
       "      <th>isIce</th>\n",
       "      <th>isGrass</th>\n",
       "      <th>isElectric</th>\n",
       "      <th>isRock</th>\n",
       "      <th>...</th>\n",
       "      <th>isFlying</th>\n",
       "      <th>isBug</th>\n",
       "      <th>isDragon</th>\n",
       "      <th>isFighting</th>\n",
       "      <th>isFairy</th>\n",
       "      <th>isGhost</th>\n",
       "      <th>isFire</th>\n",
       "      <th>isWater</th>\n",
       "      <th>isNormal</th>\n",
       "      <th>isPsychic</th>\n",
       "    </tr>\n",
       "  </thead>\n",
       "  <tbody>\n",
       "    <tr>\n",
       "      <th>0</th>\n",
       "      <td>1</td>\n",
       "      <td>Bulbasaur</td>\n",
       "      <td>grass</td>\n",
       "      <td>poison</td>\n",
       "      <td>1</td>\n",
       "      <td>0</td>\n",
       "      <td>0</td>\n",
       "      <td>1</td>\n",
       "      <td>0</td>\n",
       "      <td>0</td>\n",
       "      <td>...</td>\n",
       "      <td>0</td>\n",
       "      <td>0</td>\n",
       "      <td>0</td>\n",
       "      <td>0</td>\n",
       "      <td>0</td>\n",
       "      <td>0</td>\n",
       "      <td>0</td>\n",
       "      <td>0</td>\n",
       "      <td>0</td>\n",
       "      <td>0</td>\n",
       "    </tr>\n",
       "    <tr>\n",
       "      <th>1</th>\n",
       "      <td>2</td>\n",
       "      <td>Ivysaur</td>\n",
       "      <td>grass</td>\n",
       "      <td>poison</td>\n",
       "      <td>1</td>\n",
       "      <td>0</td>\n",
       "      <td>0</td>\n",
       "      <td>1</td>\n",
       "      <td>0</td>\n",
       "      <td>0</td>\n",
       "      <td>...</td>\n",
       "      <td>0</td>\n",
       "      <td>0</td>\n",
       "      <td>0</td>\n",
       "      <td>0</td>\n",
       "      <td>0</td>\n",
       "      <td>0</td>\n",
       "      <td>0</td>\n",
       "      <td>0</td>\n",
       "      <td>0</td>\n",
       "      <td>0</td>\n",
       "    </tr>\n",
       "    <tr>\n",
       "      <th>2</th>\n",
       "      <td>3</td>\n",
       "      <td>Venusaur</td>\n",
       "      <td>grass</td>\n",
       "      <td>poison</td>\n",
       "      <td>1</td>\n",
       "      <td>0</td>\n",
       "      <td>0</td>\n",
       "      <td>1</td>\n",
       "      <td>0</td>\n",
       "      <td>0</td>\n",
       "      <td>...</td>\n",
       "      <td>0</td>\n",
       "      <td>0</td>\n",
       "      <td>0</td>\n",
       "      <td>0</td>\n",
       "      <td>0</td>\n",
       "      <td>0</td>\n",
       "      <td>0</td>\n",
       "      <td>0</td>\n",
       "      <td>0</td>\n",
       "      <td>0</td>\n",
       "    </tr>\n",
       "    <tr>\n",
       "      <th>3</th>\n",
       "      <td>4</td>\n",
       "      <td>Charmander</td>\n",
       "      <td>fire</td>\n",
       "      <td>NaN</td>\n",
       "      <td>0</td>\n",
       "      <td>0</td>\n",
       "      <td>0</td>\n",
       "      <td>0</td>\n",
       "      <td>0</td>\n",
       "      <td>0</td>\n",
       "      <td>...</td>\n",
       "      <td>0</td>\n",
       "      <td>0</td>\n",
       "      <td>0</td>\n",
       "      <td>0</td>\n",
       "      <td>0</td>\n",
       "      <td>0</td>\n",
       "      <td>1</td>\n",
       "      <td>0</td>\n",
       "      <td>0</td>\n",
       "      <td>0</td>\n",
       "    </tr>\n",
       "    <tr>\n",
       "      <th>4</th>\n",
       "      <td>5</td>\n",
       "      <td>Charmeleon</td>\n",
       "      <td>fire</td>\n",
       "      <td>NaN</td>\n",
       "      <td>0</td>\n",
       "      <td>0</td>\n",
       "      <td>0</td>\n",
       "      <td>0</td>\n",
       "      <td>0</td>\n",
       "      <td>0</td>\n",
       "      <td>...</td>\n",
       "      <td>0</td>\n",
       "      <td>0</td>\n",
       "      <td>0</td>\n",
       "      <td>0</td>\n",
       "      <td>0</td>\n",
       "      <td>0</td>\n",
       "      <td>1</td>\n",
       "      <td>0</td>\n",
       "      <td>0</td>\n",
       "      <td>0</td>\n",
       "    </tr>\n",
       "  </tbody>\n",
       "</table>\n",
       "<p>5 rows × 22 columns</p>\n",
       "</div>"
      ],
      "text/plain": [
       "   pokedex_number        name  type1   type2  isPoison  isGround  isIce  \\\n",
       "0               1   Bulbasaur  grass  poison         1         0      0   \n",
       "1               2     Ivysaur  grass  poison         1         0      0   \n",
       "2               3    Venusaur  grass  poison         1         0      0   \n",
       "3               4  Charmander   fire     NaN         0         0      0   \n",
       "4               5  Charmeleon   fire     NaN         0         0      0   \n",
       "\n",
       "   isGrass  isElectric  isRock  ...  isFlying  isBug  isDragon  isFighting  \\\n",
       "0        1           0       0  ...         0      0         0           0   \n",
       "1        1           0       0  ...         0      0         0           0   \n",
       "2        1           0       0  ...         0      0         0           0   \n",
       "3        0           0       0  ...         0      0         0           0   \n",
       "4        0           0       0  ...         0      0         0           0   \n",
       "\n",
       "   isFairy  isGhost  isFire  isWater  isNormal  isPsychic  \n",
       "0        0        0       0        0         0          0  \n",
       "1        0        0       0        0         0          0  \n",
       "2        0        0       0        0         0          0  \n",
       "3        0        0       1        0         0          0  \n",
       "4        0        0       1        0         0          0  \n",
       "\n",
       "[5 rows x 22 columns]"
      ]
     },
     "execution_count": 4,
     "metadata": {},
     "output_type": "execute_result"
    }
   ],
   "source": [
    "# Process Pokémon and one-hot encode the types\n",
    "\n",
    "def preprocess_training_labels(dataset) -> pd.DataFrame:\n",
    "    pokemon = pd.read_csv(PROJECT_ROOT / 'data/external/stats' / dataset)\n",
    "    pokemon = pokemon[[\"pokedex_number\", \"name\", \"type1\", \"type2\"]]\n",
    "\n",
    "    # Create one-hot columns for each type\n",
    "    types = set(pokemon[\"type1\"])\n",
    "    for t in types:\n",
    "        pokemon[\"is\" + str(t).capitalize()] = 0\n",
    "\n",
    "    # Iterate over Pokémon\n",
    "    for i, p in pokemon.iterrows():\n",
    "\n",
    "        #  Set one-hot columns to 1 for relevant types\n",
    "        pokemon.loc[i, \"is\" + p[\"type1\"].capitalize()] = 1\n",
    "\n",
    "        if not pd.isna(p[\"type2\"]):\n",
    "            pokemon.loc[i, \"is\" + p[\"type2\"].capitalize()] = 1\n",
    "            \n",
    "    # Save output\n",
    "    pokemon.to_csv(PROJECT_ROOT / 'data/processed/pokemon.csv', index=False)\n",
    "            \n",
    "    return(pokemon)\n",
    "\n",
    "pokemon = preprocess_training_labels(TRAIN_DATA_LABELS)\n",
    "pokemon.head()"
   ]
  },
  {
   "cell_type": "code",
   "execution_count": 5,
   "id": "43dbb2ca",
   "metadata": {
    "execution": {
     "iopub.execute_input": "2022-08-31T12:41:33.145367Z",
     "iopub.status.busy": "2022-08-31T12:41:33.145174Z",
     "iopub.status.idle": "2022-08-31T12:41:33.688042Z",
     "shell.execute_reply": "2022-08-31T12:41:33.687771Z"
    },
    "papermill": {
     "duration": 0.546265,
     "end_time": "2022-08-31T12:41:33.689086",
     "exception": false,
     "start_time": "2022-08-31T12:41:33.142821",
     "status": "completed"
    },
    "tags": []
   },
   "outputs": [
    {
     "data": {
      "text/html": [
       "<div>\n",
       "<style scoped>\n",
       "    .dataframe tbody tr th:only-of-type {\n",
       "        vertical-align: middle;\n",
       "    }\n",
       "\n",
       "    .dataframe tbody tr th {\n",
       "        vertical-align: top;\n",
       "    }\n",
       "\n",
       "    .dataframe thead th {\n",
       "        text-align: right;\n",
       "    }\n",
       "</style>\n",
       "<table border=\"1\" class=\"dataframe\">\n",
       "  <thead>\n",
       "    <tr style=\"text-align: right;\">\n",
       "      <th></th>\n",
       "      <th>pokedex_number</th>\n",
       "      <th>name</th>\n",
       "      <th>type1</th>\n",
       "      <th>type2</th>\n",
       "      <th>isPoison</th>\n",
       "      <th>isGround</th>\n",
       "      <th>isIce</th>\n",
       "      <th>isGrass</th>\n",
       "      <th>isElectric</th>\n",
       "      <th>isRock</th>\n",
       "      <th>...</th>\n",
       "      <th>isBug</th>\n",
       "      <th>isDragon</th>\n",
       "      <th>isFighting</th>\n",
       "      <th>isFairy</th>\n",
       "      <th>isGhost</th>\n",
       "      <th>isFire</th>\n",
       "      <th>isWater</th>\n",
       "      <th>isNormal</th>\n",
       "      <th>isPsychic</th>\n",
       "      <th>imagePath</th>\n",
       "    </tr>\n",
       "  </thead>\n",
       "  <tbody>\n",
       "    <tr>\n",
       "      <th>0</th>\n",
       "      <td>1</td>\n",
       "      <td>Bulbasaur</td>\n",
       "      <td>grass</td>\n",
       "      <td>poison</td>\n",
       "      <td>1</td>\n",
       "      <td>0</td>\n",
       "      <td>0</td>\n",
       "      <td>1</td>\n",
       "      <td>0</td>\n",
       "      <td>0</td>\n",
       "      <td>...</td>\n",
       "      <td>0</td>\n",
       "      <td>0</td>\n",
       "      <td>0</td>\n",
       "      <td>0</td>\n",
       "      <td>0</td>\n",
       "      <td>0</td>\n",
       "      <td>0</td>\n",
       "      <td>0</td>\n",
       "      <td>0</td>\n",
       "      <td>/Users/robdewit/Documents/example-pokemon-clas...</td>\n",
       "    </tr>\n",
       "    <tr>\n",
       "      <th>1</th>\n",
       "      <td>2</td>\n",
       "      <td>Ivysaur</td>\n",
       "      <td>grass</td>\n",
       "      <td>poison</td>\n",
       "      <td>1</td>\n",
       "      <td>0</td>\n",
       "      <td>0</td>\n",
       "      <td>1</td>\n",
       "      <td>0</td>\n",
       "      <td>0</td>\n",
       "      <td>...</td>\n",
       "      <td>0</td>\n",
       "      <td>0</td>\n",
       "      <td>0</td>\n",
       "      <td>0</td>\n",
       "      <td>0</td>\n",
       "      <td>0</td>\n",
       "      <td>0</td>\n",
       "      <td>0</td>\n",
       "      <td>0</td>\n",
       "      <td>/Users/robdewit/Documents/example-pokemon-clas...</td>\n",
       "    </tr>\n",
       "    <tr>\n",
       "      <th>2</th>\n",
       "      <td>3</td>\n",
       "      <td>Venusaur</td>\n",
       "      <td>grass</td>\n",
       "      <td>poison</td>\n",
       "      <td>1</td>\n",
       "      <td>0</td>\n",
       "      <td>0</td>\n",
       "      <td>1</td>\n",
       "      <td>0</td>\n",
       "      <td>0</td>\n",
       "      <td>...</td>\n",
       "      <td>0</td>\n",
       "      <td>0</td>\n",
       "      <td>0</td>\n",
       "      <td>0</td>\n",
       "      <td>0</td>\n",
       "      <td>0</td>\n",
       "      <td>0</td>\n",
       "      <td>0</td>\n",
       "      <td>0</td>\n",
       "      <td>/Users/robdewit/Documents/example-pokemon-clas...</td>\n",
       "    </tr>\n",
       "    <tr>\n",
       "      <th>3</th>\n",
       "      <td>4</td>\n",
       "      <td>Charmander</td>\n",
       "      <td>fire</td>\n",
       "      <td>NaN</td>\n",
       "      <td>0</td>\n",
       "      <td>0</td>\n",
       "      <td>0</td>\n",
       "      <td>0</td>\n",
       "      <td>0</td>\n",
       "      <td>0</td>\n",
       "      <td>...</td>\n",
       "      <td>0</td>\n",
       "      <td>0</td>\n",
       "      <td>0</td>\n",
       "      <td>0</td>\n",
       "      <td>0</td>\n",
       "      <td>1</td>\n",
       "      <td>0</td>\n",
       "      <td>0</td>\n",
       "      <td>0</td>\n",
       "      <td>/Users/robdewit/Documents/example-pokemon-clas...</td>\n",
       "    </tr>\n",
       "    <tr>\n",
       "      <th>4</th>\n",
       "      <td>5</td>\n",
       "      <td>Charmeleon</td>\n",
       "      <td>fire</td>\n",
       "      <td>NaN</td>\n",
       "      <td>0</td>\n",
       "      <td>0</td>\n",
       "      <td>0</td>\n",
       "      <td>0</td>\n",
       "      <td>0</td>\n",
       "      <td>0</td>\n",
       "      <td>...</td>\n",
       "      <td>0</td>\n",
       "      <td>0</td>\n",
       "      <td>0</td>\n",
       "      <td>0</td>\n",
       "      <td>0</td>\n",
       "      <td>1</td>\n",
       "      <td>0</td>\n",
       "      <td>0</td>\n",
       "      <td>0</td>\n",
       "      <td>/Users/robdewit/Documents/example-pokemon-clas...</td>\n",
       "    </tr>\n",
       "  </tbody>\n",
       "</table>\n",
       "<p>5 rows × 23 columns</p>\n",
       "</div>"
      ],
      "text/plain": [
       "   pokedex_number        name  type1   type2  isPoison  isGround  isIce  \\\n",
       "0               1   Bulbasaur  grass  poison         1         0      0   \n",
       "1               2     Ivysaur  grass  poison         1         0      0   \n",
       "2               3    Venusaur  grass  poison         1         0      0   \n",
       "3               4  Charmander   fire     NaN         0         0      0   \n",
       "4               5  Charmeleon   fire     NaN         0         0      0   \n",
       "\n",
       "   isGrass  isElectric  isRock  ...  isBug  isDragon  isFighting  isFairy  \\\n",
       "0        1           0       0  ...      0         0           0        0   \n",
       "1        1           0       0  ...      0         0           0        0   \n",
       "2        1           0       0  ...      0         0           0        0   \n",
       "3        0           0       0  ...      0         0           0        0   \n",
       "4        0           0       0  ...      0         0           0        0   \n",
       "\n",
       "   isGhost  isFire  isWater  isNormal  isPsychic  \\\n",
       "0        0       0        0         0          0   \n",
       "1        0       0        0         0          0   \n",
       "2        0       0        0         0          0   \n",
       "3        0       1        0         0          0   \n",
       "4        0       1        0         0          0   \n",
       "\n",
       "                                           imagePath  \n",
       "0  /Users/robdewit/Documents/example-pokemon-clas...  \n",
       "1  /Users/robdewit/Documents/example-pokemon-clas...  \n",
       "2  /Users/robdewit/Documents/example-pokemon-clas...  \n",
       "3  /Users/robdewit/Documents/example-pokemon-clas...  \n",
       "4  /Users/robdewit/Documents/example-pokemon-clas...  \n",
       "\n",
       "[5 rows x 23 columns]"
      ]
     },
     "execution_count": 5,
     "metadata": {},
     "output_type": "execute_result"
    }
   ],
   "source": [
    "# Process image data\n",
    "\n",
    "def preprocess_training_data(dataset) -> pd.DataFrame:\n",
    "\n",
    "    data_directory_images = PROJECT_ROOT / \"data/external\" / dataset\n",
    "    output_directory = PROJECT_ROOT / \"data/processed/pokemon\"\n",
    "\n",
    "    pokemon = pd.read_csv(PROJECT_ROOT / 'data/processed/pokemon.csv')\n",
    "    pokemon[\"imagePath\"] = np.nan\n",
    "\n",
    "    # Remove processed folder and create empty new one\n",
    "    try:\n",
    "        shutil.rmtree(output_directory)\n",
    "        os.mkdir(output_directory)\n",
    "    except:\n",
    "        os.mkdir(output_directory)\n",
    "\n",
    "    # Copy images to processed folder\n",
    "    for image in os.listdir(data_directory_images):\n",
    "        pokemon_id = image.split('.')[0]\n",
    "\n",
    "        # Add leading zeroes to ID\n",
    "        while len(pokemon_id) < 3:\n",
    "            pokemon_id = \"0\" + pokemon_id\n",
    "\n",
    "        # Images with no variety (e.g. \"211.png\")\n",
    "        if pokemon_id.isnumeric():\n",
    "\n",
    "            # Copy to processed folder\n",
    "            src = data_directory_images / image\n",
    "            dst = os.path.join(output_directory, pokemon_id + \".png\")\n",
    "            shutil.copyfile(src, dst)\n",
    "\n",
    "            # Set image path in data frame\n",
    "            pokemon.loc[pokemon[\"pokedex_number\"] == int(pokemon_id), 'imagePath'] = dst\n",
    "\n",
    "    # Drop Pokemon without image path\n",
    "    pokemon = pokemon.dropna(subset=[\"imagePath\"])\n",
    "    \n",
    "    # Save pokemon.csv with image paths\n",
    "    pokemon.to_csv(PROJECT_ROOT / 'data/processed/pokemon-with-image-paths.csv', index=False)\n",
    "    \n",
    "    return(pokemon)\n",
    "\n",
    "pokemon = preprocess_training_data(TRAIN_DATA_IMAGES)\n",
    "pokemon.head()"
   ]
  },
  {
   "cell_type": "markdown",
   "id": "6d76e7fb",
   "metadata": {
    "papermill": {
     "duration": 0.001797,
     "end_time": "2022-08-31T12:41:33.692857",
     "exception": false,
     "start_time": "2022-08-31T12:41:33.691060",
     "status": "completed"
    },
    "tags": []
   },
   "source": [
    "## Load training data and create split"
   ]
  },
  {
   "cell_type": "code",
   "execution_count": 6,
   "id": "fa9587d5",
   "metadata": {
    "execution": {
     "iopub.execute_input": "2022-08-31T12:41:33.703727Z",
     "iopub.status.busy": "2022-08-31T12:41:33.703473Z",
     "iopub.status.idle": "2022-08-31T12:41:38.618375Z",
     "shell.execute_reply": "2022-08-31T12:41:38.617774Z"
    },
    "papermill": {
     "duration": 4.925016,
     "end_time": "2022-08-31T12:41:38.619603",
     "exception": false,
     "start_time": "2022-08-31T12:41:33.694587",
     "status": "completed"
    },
    "tags": []
   },
   "outputs": [
    {
     "name": "stderr",
     "output_type": "stream",
     "text": [
      "\r",
      "  0%|                                                                                           | 0/801 [00:00<?, ?it/s]"
     ]
    },
    {
     "name": "stderr",
     "output_type": "stream",
     "text": [
      "\r",
      "  2%|█▌                                                                               | 15/801 [00:00<00:05, 145.40it/s]"
     ]
    },
    {
     "name": "stderr",
     "output_type": "stream",
     "text": [
      "\r",
      "  4%|███▏                                                                             | 31/801 [00:00<00:05, 150.91it/s]"
     ]
    },
    {
     "name": "stderr",
     "output_type": "stream",
     "text": [
      "\r",
      "  6%|████▊                                                                            | 47/801 [00:00<00:04, 154.77it/s]"
     ]
    },
    {
     "name": "stderr",
     "output_type": "stream",
     "text": [
      "\r",
      "  8%|██████▌                                                                          | 65/801 [00:00<00:04, 163.43it/s]"
     ]
    },
    {
     "name": "stderr",
     "output_type": "stream",
     "text": [
      "\r",
      " 10%|████████▍                                                                        | 83/801 [00:00<00:04, 168.70it/s]"
     ]
    },
    {
     "name": "stderr",
     "output_type": "stream",
     "text": [
      "\r",
      " 13%|██████████                                                                      | 101/801 [00:00<00:04, 169.03it/s]"
     ]
    },
    {
     "name": "stderr",
     "output_type": "stream",
     "text": [
      "\r",
      " 15%|███████████▊                                                                    | 118/801 [00:00<00:04, 169.00it/s]"
     ]
    },
    {
     "name": "stderr",
     "output_type": "stream",
     "text": [
      "\r",
      " 17%|█████████████▌                                                                  | 136/801 [00:00<00:03, 170.80it/s]"
     ]
    },
    {
     "name": "stderr",
     "output_type": "stream",
     "text": [
      "\r",
      " 19%|███████████████▍                                                                | 155/801 [00:00<00:03, 174.22it/s]"
     ]
    },
    {
     "name": "stderr",
     "output_type": "stream",
     "text": [
      "\r",
      " 22%|█████████████████▍                                                              | 174/801 [00:01<00:03, 178.59it/s]"
     ]
    },
    {
     "name": "stderr",
     "output_type": "stream",
     "text": [
      "\r",
      " 24%|███████████████████▏                                                            | 192/801 [00:01<00:03, 178.08it/s]"
     ]
    },
    {
     "name": "stderr",
     "output_type": "stream",
     "text": [
      "\r",
      " 26%|█████████████████████                                                           | 211/801 [00:01<00:03, 179.27it/s]"
     ]
    },
    {
     "name": "stderr",
     "output_type": "stream",
     "text": [
      "\r",
      " 29%|██████████████████████▊                                                         | 229/801 [00:01<00:03, 178.59it/s]"
     ]
    },
    {
     "name": "stderr",
     "output_type": "stream",
     "text": [
      "\r",
      " 31%|████████████████████████▊                                                       | 248/801 [00:01<00:03, 178.69it/s]"
     ]
    },
    {
     "name": "stderr",
     "output_type": "stream",
     "text": [
      "\r",
      " 33%|██████████████████████████▋                                                     | 267/801 [00:01<00:02, 180.66it/s]"
     ]
    },
    {
     "name": "stderr",
     "output_type": "stream",
     "text": [
      "\r",
      " 36%|████████████████████████████▋                                                   | 287/801 [00:01<00:02, 184.89it/s]"
     ]
    },
    {
     "name": "stderr",
     "output_type": "stream",
     "text": [
      "\r",
      " 38%|██████████████████████████████▌                                                 | 306/801 [00:01<00:02, 182.76it/s]"
     ]
    },
    {
     "name": "stderr",
     "output_type": "stream",
     "text": [
      "\r",
      " 41%|████████████████████████████████▍                                               | 325/801 [00:01<00:02, 184.20it/s]"
     ]
    },
    {
     "name": "stderr",
     "output_type": "stream",
     "text": [
      "\r",
      " 43%|██████████████████████████████████▎                                             | 344/801 [00:01<00:02, 185.03it/s]"
     ]
    },
    {
     "name": "stderr",
     "output_type": "stream",
     "text": [
      "\r",
      " 45%|████████████████████████████████████▎                                           | 363/801 [00:02<00:02, 185.83it/s]"
     ]
    },
    {
     "name": "stderr",
     "output_type": "stream",
     "text": [
      "\r",
      " 48%|██████████████████████████████████████▏                                         | 382/801 [00:02<00:02, 186.16it/s]"
     ]
    },
    {
     "name": "stderr",
     "output_type": "stream",
     "text": [
      "\r",
      " 50%|████████████████████████████████████████                                        | 401/801 [00:02<00:02, 183.80it/s]"
     ]
    },
    {
     "name": "stderr",
     "output_type": "stream",
     "text": [
      "\r",
      " 52%|█████████████████████████████████████████▉                                      | 420/801 [00:02<00:02, 184.41it/s]"
     ]
    },
    {
     "name": "stderr",
     "output_type": "stream",
     "text": [
      "\r",
      " 55%|███████████████████████████████████████████▊                                    | 439/801 [00:02<00:01, 185.15it/s]"
     ]
    },
    {
     "name": "stderr",
     "output_type": "stream",
     "text": [
      "\r",
      " 57%|█████████████████████████████████████████████▋                                  | 458/801 [00:02<00:01, 183.93it/s]"
     ]
    },
    {
     "name": "stderr",
     "output_type": "stream",
     "text": [
      "\r",
      " 60%|███████████████████████████████████████████████▋                                | 477/801 [00:02<00:01, 182.44it/s]"
     ]
    },
    {
     "name": "stderr",
     "output_type": "stream",
     "text": [
      "\r",
      " 62%|█████████████████████████████████████████████████▌                              | 496/801 [00:02<00:01, 181.80it/s]"
     ]
    },
    {
     "name": "stderr",
     "output_type": "stream",
     "text": [
      "\r",
      " 64%|███████████████████████████████████████████████████▍                            | 515/801 [00:02<00:01, 179.99it/s]"
     ]
    },
    {
     "name": "stderr",
     "output_type": "stream",
     "text": [
      "\r",
      " 67%|█████████████████████████████████████████████████████▎                          | 534/801 [00:02<00:01, 180.34it/s]"
     ]
    },
    {
     "name": "stderr",
     "output_type": "stream",
     "text": [
      "\r",
      " 69%|███████████████████████████████████████████████████████▏                        | 553/801 [00:03<00:01, 180.44it/s]"
     ]
    },
    {
     "name": "stderr",
     "output_type": "stream",
     "text": [
      "\r",
      " 71%|█████████████████████████████████████████████████████████▏                      | 572/801 [00:03<00:01, 179.04it/s]"
     ]
    },
    {
     "name": "stderr",
     "output_type": "stream",
     "text": [
      "\r",
      " 74%|███████████████████████████████████████████████████████████                     | 591/801 [00:03<00:01, 179.75it/s]"
     ]
    },
    {
     "name": "stderr",
     "output_type": "stream",
     "text": [
      "\r",
      " 76%|████████████████████████████████████████████████████████████▉                   | 610/801 [00:03<00:01, 180.75it/s]"
     ]
    },
    {
     "name": "stderr",
     "output_type": "stream",
     "text": [
      "\r",
      " 79%|██████████████████████████████████████████████████████████████▊                 | 629/801 [00:03<00:00, 178.95it/s]"
     ]
    },
    {
     "name": "stderr",
     "output_type": "stream",
     "text": [
      "\r",
      " 81%|████████████████████████████████████████████████████████████████▌               | 647/801 [00:03<00:00, 178.11it/s]"
     ]
    },
    {
     "name": "stderr",
     "output_type": "stream",
     "text": [
      "\r",
      " 83%|██████████████████████████████████████████████████████████████████▌             | 666/801 [00:03<00:00, 180.34it/s]"
     ]
    },
    {
     "name": "stderr",
     "output_type": "stream",
     "text": [
      "\r",
      " 86%|████████████████████████████████████████████████████████████████████▍           | 685/801 [00:03<00:00, 179.75it/s]"
     ]
    },
    {
     "name": "stderr",
     "output_type": "stream",
     "text": [
      "\r",
      " 88%|██████████████████████████████████████████████████████████████████████▎         | 704/801 [00:03<00:00, 181.21it/s]"
     ]
    },
    {
     "name": "stderr",
     "output_type": "stream",
     "text": [
      "\r",
      " 90%|████████████████████████████████████████████████████████████████████████▏       | 723/801 [00:04<00:00, 181.68it/s]"
     ]
    },
    {
     "name": "stderr",
     "output_type": "stream",
     "text": [
      "\r",
      " 93%|██████████████████████████████████████████████████████████████████████████▏     | 743/801 [00:04<00:00, 185.28it/s]"
     ]
    },
    {
     "name": "stderr",
     "output_type": "stream",
     "text": [
      "\r",
      " 95%|████████████████████████████████████████████████████████████████████████████▏   | 763/801 [00:04<00:00, 188.47it/s]"
     ]
    },
    {
     "name": "stderr",
     "output_type": "stream",
     "text": [
      "\r",
      " 98%|██████████████████████████████████████████████████████████████████████████████  | 782/801 [00:04<00:00, 185.65it/s]"
     ]
    },
    {
     "name": "stderr",
     "output_type": "stream",
     "text": [
      "\r",
      "100%|████████████████████████████████████████████████████████████████████████████████| 801/801 [00:04<00:00, 180.81it/s]"
     ]
    },
    {
     "name": "stderr",
     "output_type": "stream",
     "text": [
      "\r",
      "100%|████████████████████████████████████████████████████████████████████████████████| 801/801 [00:04<00:00, 179.28it/s]"
     ]
    },
    {
     "name": "stderr",
     "output_type": "stream",
     "text": [
      "\n"
     ]
    }
   ],
   "source": [
    "# Load images as training data\n",
    "\n",
    "def load_training_data(labels) -> np.array:\n",
    "    train_image = []\n",
    "\n",
    "    for i in tqdm(range(labels.shape[0])):\n",
    "\n",
    "        img = tf.keras.utils.load_img(labels.iloc[i][\"imagePath\"], color_mode='rgba')\n",
    "        img = tf.keras.utils.img_to_array(img)\n",
    "        img = img/255\n",
    "        train_image.append(img)\n",
    "    X = np.array(train_image)\n",
    "    \n",
    "    return(X)\n",
    "\n",
    "X = load_training_data(pokemon)\n",
    "X.shape\n",
    "    \n",
    "# Set dimensions for input sizes later on\n",
    "model_image_size_x = len(X[1])\n",
    "model_image_size_y = len(X[2])"
   ]
  },
  {
   "cell_type": "code",
   "execution_count": 7,
   "id": "ce38d32d",
   "metadata": {
    "execution": {
     "iopub.execute_input": "2022-08-31T12:41:38.625616Z",
     "iopub.status.busy": "2022-08-31T12:41:38.625481Z",
     "iopub.status.idle": "2022-08-31T12:41:38.628201Z",
     "shell.execute_reply": "2022-08-31T12:41:38.627918Z"
    },
    "papermill": {
     "duration": 0.006779,
     "end_time": "2022-08-31T12:41:38.629129",
     "exception": false,
     "start_time": "2022-08-31T12:41:38.622350",
     "status": "completed"
    },
    "tags": []
   },
   "outputs": [],
   "source": [
    "# Create labels\n",
    "\n",
    "def create_labels(labels):\n",
    "    return(pokemon[[\"is\" + POKEMON_TYPE_TRAIN]])\n",
    "\n",
    "y = create_labels(pokemon)"
   ]
  },
  {
   "cell_type": "code",
   "execution_count": 8,
   "id": "b86f832e",
   "metadata": {
    "execution": {
     "iopub.execute_input": "2022-08-31T12:41:38.635434Z",
     "iopub.status.busy": "2022-08-31T12:41:38.635295Z",
     "iopub.status.idle": "2022-08-31T12:41:38.973557Z",
     "shell.execute_reply": "2022-08-31T12:41:38.973252Z"
    },
    "papermill": {
     "duration": 0.342609,
     "end_time": "2022-08-31T12:41:38.974489",
     "exception": false,
     "start_time": "2022-08-31T12:41:38.631880",
     "status": "completed"
    },
    "tags": []
   },
   "outputs": [
    {
     "name": "stdout",
     "output_type": "stream",
     "text": [
      "(640, 475, 475, 4) (640, 1)\n",
      "(161, 475, 475, 4) (161, 1)\n"
     ]
    }
   ],
   "source": [
    "# Train test split\n",
    "\n",
    "X_train, X_test, y_train, y_test = train_test_split(X, y, random_state=42, test_size=MODEL_TEST_SIZE, stratify=y)\n",
    "\n",
    "print(X_train.shape, y_train.shape)\n",
    "print(X_test.shape, y_test.shape)"
   ]
  },
  {
   "cell_type": "markdown",
   "id": "dd36cbb4",
   "metadata": {
    "papermill": {
     "duration": 0.002809,
     "end_time": "2022-08-31T12:41:38.980273",
     "exception": false,
     "start_time": "2022-08-31T12:41:38.977464",
     "status": "completed"
    },
    "tags": []
   },
   "source": [
    "## Define model and train"
   ]
  },
  {
   "cell_type": "code",
   "execution_count": 9,
   "id": "d0d7e97c",
   "metadata": {
    "execution": {
     "iopub.execute_input": "2022-08-31T12:41:38.986538Z",
     "iopub.status.busy": "2022-08-31T12:41:38.986399Z",
     "iopub.status.idle": "2022-08-31T12:41:39.087386Z",
     "shell.execute_reply": "2022-08-31T12:41:39.087091Z"
    },
    "papermill": {
     "duration": 0.110814,
     "end_time": "2022-08-31T12:41:39.093953",
     "exception": false,
     "start_time": "2022-08-31T12:41:38.983139",
     "status": "completed"
    },
    "tags": []
   },
   "outputs": [
    {
     "name": "stdout",
     "output_type": "stream",
     "text": [
      "Metal device set to: Apple M1 Pro\n",
      "Model: \"sequential\"\n"
     ]
    },
    {
     "name": "stdout",
     "output_type": "stream",
     "text": [
      "_________________________________________________________________\n"
     ]
    },
    {
     "name": "stdout",
     "output_type": "stream",
     "text": [
      " Layer (type)                Output Shape              Param #   \n"
     ]
    },
    {
     "name": "stdout",
     "output_type": "stream",
     "text": [
      "=================================================================\n"
     ]
    },
    {
     "name": "stdout",
     "output_type": "stream",
     "text": [
      " conv2d (Conv2D)             (None, 471, 471, 4)       404       \n"
     ]
    },
    {
     "name": "stdout",
     "output_type": "stream",
     "text": [
      "                                                                 \n"
     ]
    },
    {
     "name": "stdout",
     "output_type": "stream",
     "text": [
      " max_pooling2d (MaxPooling2D  (None, 235, 235, 4)      0         \n"
     ]
    },
    {
     "name": "stdout",
     "output_type": "stream",
     "text": [
      " )                                                               \n"
     ]
    },
    {
     "name": "stdout",
     "output_type": "stream",
     "text": [
      "                                                                 \n"
     ]
    },
    {
     "name": "stdout",
     "output_type": "stream",
     "text": [
      " dropout (Dropout)           (None, 235, 235, 4)       0         \n"
     ]
    },
    {
     "name": "stdout",
     "output_type": "stream",
     "text": [
      "                                                                 \n"
     ]
    },
    {
     "name": "stdout",
     "output_type": "stream",
     "text": [
      " conv2d_1 (Conv2D)           (None, 231, 231, 4)       404       \n"
     ]
    },
    {
     "name": "stdout",
     "output_type": "stream",
     "text": [
      "                                                                 \n"
     ]
    },
    {
     "name": "stdout",
     "output_type": "stream",
     "text": [
      " max_pooling2d_1 (MaxPooling  (None, 115, 115, 4)      0         \n"
     ]
    },
    {
     "name": "stdout",
     "output_type": "stream",
     "text": [
      " 2D)                                                             \n"
     ]
    },
    {
     "name": "stdout",
     "output_type": "stream",
     "text": [
      "                                                                 \n"
     ]
    },
    {
     "name": "stdout",
     "output_type": "stream",
     "text": [
      " dense (Dense)               (None, 115, 115, 8)       40        \n"
     ]
    },
    {
     "name": "stdout",
     "output_type": "stream",
     "text": [
      "                                                                 \n"
     ]
    },
    {
     "name": "stdout",
     "output_type": "stream",
     "text": [
      " dropout_1 (Dropout)         (None, 115, 115, 8)       0         \n"
     ]
    },
    {
     "name": "stdout",
     "output_type": "stream",
     "text": [
      "                                                                 \n"
     ]
    },
    {
     "name": "stdout",
     "output_type": "stream",
     "text": [
      " flatten (Flatten)           (None, 105800)            0         \n"
     ]
    },
    {
     "name": "stdout",
     "output_type": "stream",
     "text": [
      "                                                                 \n"
     ]
    },
    {
     "name": "stdout",
     "output_type": "stream",
     "text": [
      " dense_1 (Dense)             (None, 1)                 105801    \n"
     ]
    },
    {
     "name": "stdout",
     "output_type": "stream",
     "text": [
      "                                                                 \n"
     ]
    },
    {
     "name": "stdout",
     "output_type": "stream",
     "text": [
      "=================================================================\n"
     ]
    },
    {
     "name": "stdout",
     "output_type": "stream",
     "text": [
      "Total params: 106,649\n"
     ]
    },
    {
     "name": "stdout",
     "output_type": "stream",
     "text": [
      "Trainable params: 106,649\n"
     ]
    },
    {
     "name": "stdout",
     "output_type": "stream",
     "text": [
      "Non-trainable params: 0\n"
     ]
    },
    {
     "name": "stdout",
     "output_type": "stream",
     "text": [
      "_________________________________________________________________\n"
     ]
    },
    {
     "name": "stderr",
     "output_type": "stream",
     "text": [
      "2022-08-31 14:41:38.994045: I tensorflow/core/common_runtime/pluggable_device/pluggable_device_factory.cc:305] Could not identify NUMA node of platform GPU ID 0, defaulting to 0. Your kernel may not have been built with NUMA support.\n",
      "2022-08-31 14:41:38.994163: I tensorflow/core/common_runtime/pluggable_device/pluggable_device_factory.cc:271] Created TensorFlow device (/job:localhost/replica:0/task:0/device:GPU:0 with 0 MB memory) -> physical PluggableDevice (device: 0, name: METAL, pci bus id: <undefined>)\n"
     ]
    }
   ],
   "source": [
    "img_input = layers.Input(shape=(model_image_size_x, model_image_size_y, 4))\n",
    "\n",
    "model = Sequential()\n",
    "\n",
    "model.add(Conv2D(4, kernel_size=(5,5), activation='relu', kernel_regularizer=regularizers.l2(l=0.01), input_shape=(model_image_size_x, model_image_size_y, 4)))\n",
    "model.add(MaxPooling2D(pool_size=(2, 2)))\n",
    "\n",
    "model.add(Dropout(0.2))\n",
    "\n",
    "model.add(Conv2D(4, kernel_size=(5,5), activation='relu', kernel_regularizer=regularizers.l2(l=0.01)))\n",
    "model.add(MaxPooling2D(pool_size=(2, 2)))\n",
    "\n",
    "# model.add(Dropout(0.2))\n",
    "\n",
    "model.add(Dense(8, activation=\"relu\"))\n",
    "\n",
    "model.add(Dropout(0.2))\n",
    "model.add(Flatten())\n",
    "\n",
    "model.add(Dense(1, activation=\"sigmoid\"))\n",
    "\n",
    "optimizer = keras.optimizers.Adam(learning_rate=MODEL_LEARNING_RATE) #Adam, RMSprop or SGD\n",
    "\n",
    "model.compile(\n",
    "    loss='binary_crossentropy'\n",
    "    , optimizer=optimizer\n",
    "    , metrics=[keras.metrics.AUC()]\n",
    "#     , metrics=[keras.metrics.Recall()]\n",
    ")\n",
    "\n",
    "model.summary()"
   ]
  },
  {
   "cell_type": "code",
   "execution_count": 10,
   "id": "70e9a4b7",
   "metadata": {
    "execution": {
     "iopub.execute_input": "2022-08-31T12:41:39.101658Z",
     "iopub.status.busy": "2022-08-31T12:41:39.101503Z",
     "iopub.status.idle": "2022-08-31T12:42:11.281652Z",
     "shell.execute_reply": "2022-08-31T12:42:11.281130Z"
    },
    "papermill": {
     "duration": 32.185752,
     "end_time": "2022-08-31T12:42:11.283120",
     "exception": false,
     "start_time": "2022-08-31T12:41:39.097368",
     "status": "completed"
    },
    "tags": []
   },
   "outputs": [
    {
     "name": "stdout",
     "output_type": "stream",
     "text": [
      "Epoch 1/10\n"
     ]
    },
    {
     "name": "stderr",
     "output_type": "stream",
     "text": [
      "2022-08-31 14:41:40.099031: W tensorflow/core/platform/profile_utils/cpu_utils.cc:128] Failed to get CPU frequency: 0 Hz\n"
     ]
    },
    {
     "name": "stderr",
     "output_type": "stream",
     "text": [
      "2022-08-31 14:41:40.524673: I tensorflow/core/grappler/optimizers/custom_graph_optimizer_registry.cc:113] Plugin optimizer for device_type GPU is enabled.\n"
     ]
    },
    {
     "name": "stdout",
     "output_type": "stream",
     "text": [
      "\r",
      "1/6 [====>.........................] - ETA: 12s - loss: 0.2483 - auc: 0.5178"
     ]
    },
    {
     "name": "stdout",
     "output_type": "stream",
     "text": [
      "\b\b\b\b\b\b\b\b\b\b\b\b\b\b\b\b\b\b\b\b\b\b\b\b\b\b\b\b\b\b\b\b\b\b\b\b\b\b\b\b\b\b\b\b\b\b\b\b\b\b\b\b\b\b\b\b\b\b\b\b\b\b\b\b\b\b\b\b\b\b\b\b\b\b\b\b\r",
      "2/6 [=========>....................] - ETA: 2s - loss: 0.3251 - auc: 0.5018 "
     ]
    },
    {
     "name": "stdout",
     "output_type": "stream",
     "text": [
      "\b\b\b\b\b\b\b\b\b\b\b\b\b\b\b\b\b\b\b\b\b\b\b\b\b\b\b\b\b\b\b\b\b\b\b\b\b\b\b\b\b\b\b\b\b\b\b\b\b\b\b\b\b\b\b\b\b\b\b\b\b\b\b\b\b\b\b\b\b\b\b\b\b\b\b\r",
      "3/6 [==============>...............] - ETA: 1s - loss: 0.3056 - auc: 0.5170"
     ]
    },
    {
     "name": "stdout",
     "output_type": "stream",
     "text": [
      "\b\b\b\b\b\b\b\b\b\b\b\b\b\b\b\b\b\b\b\b\b\b\b\b\b\b\b\b\b\b\b\b\b\b\b\b\b\b\b\b\b\b\b\b\b\b\b\b\b\b\b\b\b\b\b\b\b\b\b\b\b\b\b\b\b\b\b\b\b\b\b\b\b\b\b\r",
      "4/6 [===================>..........] - ETA: 1s - loss: 0.3002 - auc: 0.5360"
     ]
    },
    {
     "name": "stdout",
     "output_type": "stream",
     "text": [
      "\b\b\b\b\b\b\b\b\b\b\b\b\b\b\b\b\b\b\b\b\b\b\b\b\b\b\b\b\b\b\b\b\b\b\b\b\b\b\b\b\b\b\b\b\b\b\b\b\b\b\b\b\b\b\b\b\b\b\b\b\b\b\b\b\b\b\b\b\b\b\b\b\b\b\b\r",
      "5/6 [========================>.....] - ETA: 0s - loss: 0.2996 - auc: 0.5248"
     ]
    },
    {
     "name": "stdout",
     "output_type": "stream",
     "text": [
      "\b\b\b\b\b\b\b\b\b\b\b\b\b\b\b\b\b\b\b\b\b\b\b\b\b\b\b\b\b\b\b\b\b\b\b\b\b\b\b\b\b\b\b\b\b\b\b\b\b\b\b\b\b\b\b\b\b\b\b\b\b\b\b\b\b\b\b\b\b\b\b\b\b\b\b\r",
      "6/6 [==============================] - ETA: 0s - loss: 0.2986 - auc: 0.5057"
     ]
    },
    {
     "name": "stderr",
     "output_type": "stream",
     "text": [
      "2022-08-31 14:41:45.501485: I tensorflow/core/grappler/optimizers/custom_graph_optimizer_registry.cc:113] Plugin optimizer for device_type GPU is enabled.\n"
     ]
    },
    {
     "name": "stdout",
     "output_type": "stream",
     "text": [
      "\b\b\b\b\b\b\b\b\b\b\b\b\b\b\b\b\b\b\b\b\b\b\b\b\b\b\b\b\b\b\b\b\b\b\b\b\b\b\b\b\b\b\b\b\b\b\b\b\b\b\b\b\b\b\b\b\b\b\b\b\b\b\b\b\b\b\b\b\b\b\b\b\b\b\b\r",
      "6/6 [==============================] - 6s 680ms/step - loss: 0.2986 - auc: 0.5057 - val_loss: 0.9140 - val_auc: 0.6517\n"
     ]
    },
    {
     "name": "stdout",
     "output_type": "stream",
     "text": [
      "Epoch 2/10\n"
     ]
    },
    {
     "name": "stdout",
     "output_type": "stream",
     "text": [
      "\r",
      "1/6 [====>.........................] - ETA: 2s - loss: 0.2790 - auc: 0.4367"
     ]
    },
    {
     "name": "stdout",
     "output_type": "stream",
     "text": [
      "\b\b\b\b\b\b\b\b\b\b\b\b\b\b\b\b\b\b\b\b\b\b\b\b\b\b\b\b\b\b\b\b\b\b\b\b\b\b\b\b\b\b\b\b\b\b\b\b\b\b\b\b\b\b\b\b\b\b\b\b\b\b\b\b\b\b\b\b\b\b\b\b\b\b\b\r",
      "2/6 [=========>....................] - ETA: 1s - loss: 0.2699 - auc: 0.5804"
     ]
    },
    {
     "name": "stdout",
     "output_type": "stream",
     "text": [
      "\b\b\b\b\b\b\b\b\b\b\b\b\b\b\b\b\b\b\b\b\b\b\b\b\b\b\b\b\b\b\b\b\b\b\b\b\b\b\b\b\b\b\b\b\b\b\b\b\b\b\b\b\b\b\b\b\b\b\b\b\b\b\b\b\b\b\b\b\b\b\b\b\b\b\b\r",
      "3/6 [==============>...............] - ETA: 1s - loss: 0.2664 - auc: 0.5914"
     ]
    },
    {
     "name": "stdout",
     "output_type": "stream",
     "text": [
      "\b\b\b\b\b\b\b\b\b\b\b\b\b\b\b\b\b\b\b\b\b\b\b\b\b\b\b\b\b\b\b\b\b\b\b\b\b\b\b\b\b\b\b\b\b\b\b\b\b\b\b\b\b\b\b\b\b\b\b\b\b\b\b\b\b\b\b\b\b\b\b\b\b\b\b\r",
      "4/6 [===================>..........] - ETA: 0s - loss: 0.2645 - auc: 0.5895"
     ]
    },
    {
     "name": "stdout",
     "output_type": "stream",
     "text": [
      "\b\b\b\b\b\b\b\b\b\b\b\b\b\b\b\b\b\b\b\b\b\b\b\b\b\b\b\b\b\b\b\b\b\b\b\b\b\b\b\b\b\b\b\b\b\b\b\b\b\b\b\b\b\b\b\b\b\b\b\b\b\b\b\b\b\b\b\b\b\b\b\b\b\b\b\r",
      "5/6 [========================>.....] - ETA: 0s - loss: 0.2610 - auc: 0.5899"
     ]
    },
    {
     "name": "stdout",
     "output_type": "stream",
     "text": [
      "\b\b\b\b\b\b\b\b\b\b\b\b\b\b\b\b\b\b\b\b\b\b\b\b\b\b\b\b\b\b\b\b\b\b\b\b\b\b\b\b\b\b\b\b\b\b\b\b\b\b\b\b\b\b\b\b\b\b\b\b\b\b\b\b\b\b\b\b\b\b\b\b\b\b\b\r",
      "6/6 [==============================] - ETA: 0s - loss: 0.2608 - auc: 0.5885"
     ]
    },
    {
     "name": "stdout",
     "output_type": "stream",
     "text": [
      "\b\b\b\b\b\b\b\b\b\b\b\b\b\b\b\b\b\b\b\b\b\b\b\b\b\b\b\b\b\b\b\b\b\b\b\b\b\b\b\b\b\b\b\b\b\b\b\b\b\b\b\b\b\b\b\b\b\b\b\b\b\b\b\b\b\b\b\b\b\b\b\b\b\b\b\r",
      "6/6 [==============================] - 3s 531ms/step - loss: 0.2608 - auc: 0.5885 - val_loss: 0.6937 - val_auc: 0.5187\n"
     ]
    },
    {
     "name": "stdout",
     "output_type": "stream",
     "text": [
      "Epoch 3/10\n"
     ]
    },
    {
     "name": "stdout",
     "output_type": "stream",
     "text": [
      "\r",
      "1/6 [====>.........................] - ETA: 2s - loss: 0.2533 - auc: 0.8432"
     ]
    },
    {
     "name": "stdout",
     "output_type": "stream",
     "text": [
      "\b\b\b\b\b\b\b\b\b\b\b\b\b\b\b\b\b\b\b\b\b\b\b\b\b\b\b\b\b\b\b\b\b\b\b\b\b\b\b\b\b\b\b\b\b\b\b\b\b\b\b\b\b\b\b\b\b\b\b\b\b\b\b\b\b\b\b\b\b\b\b\b\b\b\b\r",
      "2/6 [=========>....................] - ETA: 1s - loss: 0.2430 - auc: 0.8326"
     ]
    },
    {
     "name": "stdout",
     "output_type": "stream",
     "text": [
      "\b\b\b\b\b\b\b\b\b\b\b\b\b\b\b\b\b\b\b\b\b\b\b\b\b\b\b\b\b\b\b\b\b\b\b\b\b\b\b\b\b\b\b\b\b\b\b\b\b\b\b\b\b\b\b\b\b\b\b\b\b\b\b\b\b\b\b\b\b\b\b\b\b\b\b\r",
      "3/6 [==============>...............] - ETA: 1s - loss: 0.2499 - auc: 0.8259"
     ]
    },
    {
     "name": "stdout",
     "output_type": "stream",
     "text": [
      "\b\b\b\b\b\b\b\b\b\b\b\b\b\b\b\b\b\b\b\b\b\b\b\b\b\b\b\b\b\b\b\b\b\b\b\b\b\b\b\b\b\b\b\b\b\b\b\b\b\b\b\b\b\b\b\b\b\b\b\b\b\b\b\b\b\b\b\b\b\b\b\b\b\b\b\r",
      "4/6 [===================>..........] - ETA: 0s - loss: 0.2526 - auc: 0.8183"
     ]
    },
    {
     "name": "stdout",
     "output_type": "stream",
     "text": [
      "\b\b\b\b\b\b\b\b\b\b\b\b\b\b\b\b\b\b\b\b\b\b\b\b\b\b\b\b\b\b\b\b\b\b\b\b\b\b\b\b\b\b\b\b\b\b\b\b\b\b\b\b\b\b\b\b\b\b\b\b\b\b\b\b\b\b\b\b\b\b\b\b\b\b\b\r",
      "5/6 [========================>.....] - ETA: 0s - loss: 0.2505 - auc: 0.8118"
     ]
    },
    {
     "name": "stdout",
     "output_type": "stream",
     "text": [
      "\b\b\b\b\b\b\b\b\b\b\b\b\b\b\b\b\b\b\b\b\b\b\b\b\b\b\b\b\b\b\b\b\b\b\b\b\b\b\b\b\b\b\b\b\b\b\b\b\b\b\b\b\b\b\b\b\b\b\b\b\b\b\b\b\b\b\b\b\b\b\b\b\b\b\b\r",
      "6/6 [==============================] - ETA: 0s - loss: 0.2494 - auc: 0.8108"
     ]
    },
    {
     "name": "stdout",
     "output_type": "stream",
     "text": [
      "\b\b\b\b\b\b\b\b\b\b\b\b\b\b\b\b\b\b\b\b\b\b\b\b\b\b\b\b\b\b\b\b\b\b\b\b\b\b\b\b\b\b\b\b\b\b\b\b\b\b\b\b\b\b\b\b\b\b\b\b\b\b\b\b\b\b\b\b\b\b\b\b\b\b\b\r",
      "6/6 [==============================] - 3s 478ms/step - loss: 0.2494 - auc: 0.8108 - val_loss: 0.6967 - val_auc: 0.5494\n"
     ]
    },
    {
     "name": "stdout",
     "output_type": "stream",
     "text": [
      "Epoch 4/10\n"
     ]
    },
    {
     "name": "stdout",
     "output_type": "stream",
     "text": [
      "\r",
      "1/6 [====>.........................] - ETA: 2s - loss: 0.2388 - auc: 0.8791"
     ]
    },
    {
     "name": "stdout",
     "output_type": "stream",
     "text": [
      "\b\b\b\b\b\b\b\b\b\b\b\b\b\b\b\b\b\b\b\b\b\b\b\b\b\b\b\b\b\b\b\b\b\b\b\b\b\b\b\b\b\b\b\b\b\b\b\b\b\b\b\b\b\b\b\b\b\b\b\b\b\b\b\b\b\b\b\b\b\b\b\b\b\b\b\r",
      "2/6 [=========>....................] - ETA: 1s - loss: 0.2426 - auc: 0.9007"
     ]
    },
    {
     "name": "stdout",
     "output_type": "stream",
     "text": [
      "\b\b\b\b\b\b\b\b\b\b\b\b\b\b\b\b\b\b\b\b\b\b\b\b\b\b\b\b\b\b\b\b\b\b\b\b\b\b\b\b\b\b\b\b\b\b\b\b\b\b\b\b\b\b\b\b\b\b\b\b\b\b\b\b\b\b\b\b\b\b\b\b\b\b\b\r",
      "3/6 [==============>...............] - ETA: 1s - loss: 0.2438 - auc: 0.8639"
     ]
    },
    {
     "name": "stdout",
     "output_type": "stream",
     "text": [
      "\b\b\b\b\b\b\b\b\b\b\b\b\b\b\b\b\b\b\b\b\b\b\b\b\b\b\b\b\b\b\b\b\b\b\b\b\b\b\b\b\b\b\b\b\b\b\b\b\b\b\b\b\b\b\b\b\b\b\b\b\b\b\b\b\b\b\b\b\b\b\b\b\b\b\b\r",
      "4/6 [===================>..........] - ETA: 0s - loss: 0.2409 - auc: 0.8578"
     ]
    },
    {
     "name": "stdout",
     "output_type": "stream",
     "text": [
      "\b\b\b\b\b\b\b\b\b\b\b\b\b\b\b\b\b\b\b\b\b\b\b\b\b\b\b\b\b\b\b\b\b\b\b\b\b\b\b\b\b\b\b\b\b\b\b\b\b\b\b\b\b\b\b\b\b\b\b\b\b\b\b\b\b\b\b\b\b\b\b\b\b\b\b\r",
      "5/6 [========================>.....] - ETA: 0s - loss: 0.2398 - auc: 0.8457"
     ]
    },
    {
     "name": "stdout",
     "output_type": "stream",
     "text": [
      "\b\b\b\b\b\b\b\b\b\b\b\b\b\b\b\b\b\b\b\b\b\b\b\b\b\b\b\b\b\b\b\b\b\b\b\b\b\b\b\b\b\b\b\b\b\b\b\b\b\b\b\b\b\b\b\b\b\b\b\b\b\b\b\b\b\b\b\b\b\b\b\b\b\b\b\r",
      "6/6 [==============================] - ETA: 0s - loss: 0.2415 - auc: 0.8470"
     ]
    },
    {
     "name": "stdout",
     "output_type": "stream",
     "text": [
      "\b\b\b\b\b\b\b\b\b\b\b\b\b\b\b\b\b\b\b\b\b\b\b\b\b\b\b\b\b\b\b\b\b\b\b\b\b\b\b\b\b\b\b\b\b\b\b\b\b\b\b\b\b\b\b\b\b\b\b\b\b\b\b\b\b\b\b\b\b\b\b\b\b\b\b\r",
      "6/6 [==============================] - 3s 482ms/step - loss: 0.2415 - auc: 0.8470 - val_loss: 0.7205 - val_auc: 0.5654\n"
     ]
    },
    {
     "name": "stdout",
     "output_type": "stream",
     "text": [
      "Epoch 5/10\n"
     ]
    },
    {
     "name": "stdout",
     "output_type": "stream",
     "text": [
      "\r",
      "1/6 [====>.........................] - ETA: 2s - loss: 0.2350 - auc: 0.8825"
     ]
    },
    {
     "name": "stdout",
     "output_type": "stream",
     "text": [
      "\b\b\b\b\b\b\b\b\b\b\b\b\b\b\b\b\b\b\b\b\b\b\b\b\b\b\b\b\b\b\b\b\b\b\b\b\b\b\b\b\b\b\b\b\b\b\b\b\b\b\b\b\b\b\b\b\b\b\b\b\b\b\b\b\b\b\b\b\b\b\b\b\b\b\b\r",
      "2/6 [=========>....................] - ETA: 1s - loss: 0.2299 - auc: 0.8859"
     ]
    },
    {
     "name": "stdout",
     "output_type": "stream",
     "text": [
      "\b\b\b\b\b\b\b\b\b\b\b\b\b\b\b\b\b\b\b\b\b\b\b\b\b\b\b\b\b\b\b\b\b\b\b\b\b\b\b\b\b\b\b\b\b\b\b\b\b\b\b\b\b\b\b\b\b\b\b\b\b\b\b\b\b\b\b\b\b\b\b\b\b\b\b\r",
      "3/6 [==============>...............] - ETA: 1s - loss: 0.2315 - auc: 0.9032"
     ]
    },
    {
     "name": "stdout",
     "output_type": "stream",
     "text": [
      "\b\b\b\b\b\b\b\b\b\b\b\b\b\b\b\b\b\b\b\b\b\b\b\b\b\b\b\b\b\b\b\b\b\b\b\b\b\b\b\b\b\b\b\b\b\b\b\b\b\b\b\b\b\b\b\b\b\b\b\b\b\b\b\b\b\b\b\b\b\b\b\b\b\b\b\r",
      "4/6 [===================>..........] - ETA: 0s - loss: 0.2306 - auc: 0.8801"
     ]
    },
    {
     "name": "stdout",
     "output_type": "stream",
     "text": [
      "\b\b\b\b\b\b\b\b\b\b\b\b\b\b\b\b\b\b\b\b\b\b\b\b\b\b\b\b\b\b\b\b\b\b\b\b\b\b\b\b\b\b\b\b\b\b\b\b\b\b\b\b\b\b\b\b\b\b\b\b\b\b\b\b\b\b\b\b\b\b\b\b\b\b\b\r",
      "5/6 [========================>.....] - ETA: 0s - loss: 0.2339 - auc: 0.8869"
     ]
    },
    {
     "name": "stdout",
     "output_type": "stream",
     "text": [
      "\b\b\b\b\b\b\b\b\b\b\b\b\b\b\b\b\b\b\b\b\b\b\b\b\b\b\b\b\b\b\b\b\b\b\b\b\b\b\b\b\b\b\b\b\b\b\b\b\b\b\b\b\b\b\b\b\b\b\b\b\b\b\b\b\b\b\b\b\b\b\b\b\b\b\b\r",
      "6/6 [==============================] - ETA: 0s - loss: 0.2328 - auc: 0.8859"
     ]
    },
    {
     "name": "stdout",
     "output_type": "stream",
     "text": [
      "\b\b\b\b\b\b\b\b\b\b\b\b\b\b\b\b\b\b\b\b\b\b\b\b\b\b\b\b\b\b\b\b\b\b\b\b\b\b\b\b\b\b\b\b\b\b\b\b\b\b\b\b\b\b\b\b\b\b\b\b\b\b\b\b\b\b\b\b\b\b\b\b\b\b\b\r",
      "6/6 [==============================] - 3s 473ms/step - loss: 0.2328 - auc: 0.8859 - val_loss: 0.7132 - val_auc: 0.5610\n"
     ]
    },
    {
     "name": "stdout",
     "output_type": "stream",
     "text": [
      "Epoch 6/10\n"
     ]
    },
    {
     "name": "stdout",
     "output_type": "stream",
     "text": [
      "\r",
      "1/6 [====>.........................] - ETA: 2s - loss: 0.2002 - auc: 0.9610"
     ]
    },
    {
     "name": "stdout",
     "output_type": "stream",
     "text": [
      "\b\b\b\b\b\b\b\b\b\b\b\b\b\b\b\b\b\b\b\b\b\b\b\b\b\b\b\b\b\b\b\b\b\b\b\b\b\b\b\b\b\b\b\b\b\b\b\b\b\b\b\b\b\b\b\b\b\b\b\b\b\b\b\b\b\b\b\b\b\b\b\b\b\b\b\r",
      "2/6 [=========>....................] - ETA: 1s - loss: 0.2282 - auc: 0.9351"
     ]
    },
    {
     "name": "stdout",
     "output_type": "stream",
     "text": [
      "\b\b\b\b\b\b\b\b\b\b\b\b\b\b\b\b\b\b\b\b\b\b\b\b\b\b\b\b\b\b\b\b\b\b\b\b\b\b\b\b\b\b\b\b\b\b\b\b\b\b\b\b\b\b\b\b\b\b\b\b\b\b\b\b\b\b\b\b\b\b\b\b\b\b\b\r",
      "3/6 [==============>...............] - ETA: 1s - loss: 0.2235 - auc: 0.9185"
     ]
    },
    {
     "name": "stdout",
     "output_type": "stream",
     "text": [
      "\b\b\b\b\b\b\b\b\b\b\b\b\b\b\b\b\b\b\b\b\b\b\b\b\b\b\b\b\b\b\b\b\b\b\b\b\b\b\b\b\b\b\b\b\b\b\b\b\b\b\b\b\b\b\b\b\b\b\b\b\b\b\b\b\b\b\b\b\b\b\b\b\b\b\b\r",
      "4/6 [===================>..........] - ETA: 0s - loss: 0.2171 - auc: 0.9194"
     ]
    },
    {
     "name": "stdout",
     "output_type": "stream",
     "text": [
      "\b\b\b\b\b\b\b\b\b\b\b\b\b\b\b\b\b\b\b\b\b\b\b\b\b\b\b\b\b\b\b\b\b\b\b\b\b\b\b\b\b\b\b\b\b\b\b\b\b\b\b\b\b\b\b\b\b\b\b\b\b\b\b\b\b\b\b\b\b\b\b\b\b\b\b\r",
      "5/6 [========================>.....] - ETA: 0s - loss: 0.2152 - auc: 0.9234"
     ]
    },
    {
     "name": "stdout",
     "output_type": "stream",
     "text": [
      "\b\b\b\b\b\b\b\b\b\b\b\b\b\b\b\b\b\b\b\b\b\b\b\b\b\b\b\b\b\b\b\b\b\b\b\b\b\b\b\b\b\b\b\b\b\b\b\b\b\b\b\b\b\b\b\b\b\b\b\b\b\b\b\b\b\b\b\b\b\b\b\b\b\b\b\r",
      "6/6 [==============================] - ETA: 0s - loss: 0.2203 - auc: 0.9064"
     ]
    },
    {
     "name": "stdout",
     "output_type": "stream",
     "text": [
      "\b\b\b\b\b\b\b\b\b\b\b\b\b\b\b\b\b\b\b\b\b\b\b\b\b\b\b\b\b\b\b\b\b\b\b\b\b\b\b\b\b\b\b\b\b\b\b\b\b\b\b\b\b\b\b\b\b\b\b\b\b\b\b\b\b\b\b\b\b\b\b\b\b\b\b\r",
      "6/6 [==============================] - 3s 483ms/step - loss: 0.2203 - auc: 0.9064 - val_loss: 0.6544 - val_auc: 0.5509\n"
     ]
    },
    {
     "name": "stdout",
     "output_type": "stream",
     "text": [
      "Epoch 7/10\n"
     ]
    },
    {
     "name": "stdout",
     "output_type": "stream",
     "text": [
      "\r",
      "1/6 [====>.........................] - ETA: 2s - loss: 0.1894 - auc: 0.9697"
     ]
    },
    {
     "name": "stdout",
     "output_type": "stream",
     "text": [
      "\b\b\b\b\b\b\b\b\b\b\b\b\b\b\b\b\b\b\b\b\b\b\b\b\b\b\b\b\b\b\b\b\b\b\b\b\b\b\b\b\b\b\b\b\b\b\b\b\b\b\b\b\b\b\b\b\b\b\b\b\b\b\b\b\b\b\b\b\b\b\b\b\b\b\b\r",
      "2/6 [=========>....................] - ETA: 1s - loss: 0.2104 - auc: 0.9607"
     ]
    },
    {
     "name": "stdout",
     "output_type": "stream",
     "text": [
      "\b\b\b\b\b\b\b\b\b\b\b\b\b\b\b\b\b\b\b\b\b\b\b\b\b\b\b\b\b\b\b\b\b\b\b\b\b\b\b\b\b\b\b\b\b\b\b\b\b\b\b\b\b\b\b\b\b\b\b\b\b\b\b\b\b\b\b\b\b\b\b\b\b\b\b\r",
      "3/6 [==============>...............] - ETA: 1s - loss: 0.2072 - auc: 0.9510"
     ]
    },
    {
     "name": "stdout",
     "output_type": "stream",
     "text": [
      "\b\b\b\b\b\b\b\b\b\b\b\b\b\b\b\b\b\b\b\b\b\b\b\b\b\b\b\b\b\b\b\b\b\b\b\b\b\b\b\b\b\b\b\b\b\b\b\b\b\b\b\b\b\b\b\b\b\b\b\b\b\b\b\b\b\b\b\b\b\b\b\b\b\b\b\r",
      "4/6 [===================>..........] - ETA: 0s - loss: 0.2025 - auc: 0.9548"
     ]
    },
    {
     "name": "stdout",
     "output_type": "stream",
     "text": [
      "\b\b\b\b\b\b\b\b\b\b\b\b\b\b\b\b\b\b\b\b\b\b\b\b\b\b\b\b\b\b\b\b\b\b\b\b\b\b\b\b\b\b\b\b\b\b\b\b\b\b\b\b\b\b\b\b\b\b\b\b\b\b\b\b\b\b\b\b\b\b\b\b\b\b\b\r",
      "5/6 [========================>.....] - ETA: 0s - loss: 0.2004 - auc: 0.9515"
     ]
    },
    {
     "name": "stdout",
     "output_type": "stream",
     "text": [
      "\b\b\b\b\b\b\b\b\b\b\b\b\b\b\b\b\b\b\b\b\b\b\b\b\b\b\b\b\b\b\b\b\b\b\b\b\b\b\b\b\b\b\b\b\b\b\b\b\b\b\b\b\b\b\b\b\b\b\b\b\b\b\b\b\b\b\b\b\b\b\b\b\b\b\b\r",
      "6/6 [==============================] - ETA: 0s - loss: 0.2000 - auc: 0.9471"
     ]
    },
    {
     "name": "stdout",
     "output_type": "stream",
     "text": [
      "\b\b\b\b\b\b\b\b\b\b\b\b\b\b\b\b\b\b\b\b\b\b\b\b\b\b\b\b\b\b\b\b\b\b\b\b\b\b\b\b\b\b\b\b\b\b\b\b\b\b\b\b\b\b\b\b\b\b\b\b\b\b\b\b\b\b\b\b\b\b\b\b\b\b\b\r",
      "6/6 [==============================] - 3s 476ms/step - loss: 0.2000 - auc: 0.9471 - val_loss: 0.6177 - val_auc: 0.5746\n"
     ]
    },
    {
     "name": "stdout",
     "output_type": "stream",
     "text": [
      "Epoch 8/10\n"
     ]
    },
    {
     "name": "stdout",
     "output_type": "stream",
     "text": [
      "\r",
      "1/6 [====>.........................] - ETA: 2s - loss: 0.1927 - auc: 0.9449"
     ]
    },
    {
     "name": "stdout",
     "output_type": "stream",
     "text": [
      "\b\b\b\b\b\b\b\b\b\b\b\b\b\b\b\b\b\b\b\b\b\b\b\b\b\b\b\b\b\b\b\b\b\b\b\b\b\b\b\b\b\b\b\b\b\b\b\b\b\b\b\b\b\b\b\b\b\b\b\b\b\b\b\b\b\b\b\b\b\b\b\b\b\b\b\r",
      "2/6 [=========>....................] - ETA: 1s - loss: 0.1943 - auc: 0.9484"
     ]
    },
    {
     "name": "stdout",
     "output_type": "stream",
     "text": [
      "\b\b\b\b\b\b\b\b\b\b\b\b\b\b\b\b\b\b\b\b\b\b\b\b\b\b\b\b\b\b\b\b\b\b\b\b\b\b\b\b\b\b\b\b\b\b\b\b\b\b\b\b\b\b\b\b\b\b\b\b\b\b\b\b\b\b\b\b\b\b\b\b\b\b\b\r",
      "3/6 [==============>...............] - ETA: 1s - loss: 0.1842 - auc: 0.9528"
     ]
    },
    {
     "name": "stdout",
     "output_type": "stream",
     "text": [
      "\b\b\b\b\b\b\b\b\b\b\b\b\b\b\b\b\b\b\b\b\b\b\b\b\b\b\b\b\b\b\b\b\b\b\b\b\b\b\b\b\b\b\b\b\b\b\b\b\b\b\b\b\b\b\b\b\b\b\b\b\b\b\b\b\b\b\b\b\b\b\b\b\b\b\b\r",
      "4/6 [===================>..........] - ETA: 0s - loss: 0.1765 - auc: 0.9594"
     ]
    },
    {
     "name": "stdout",
     "output_type": "stream",
     "text": [
      "\b\b\b\b\b\b\b\b\b\b\b\b\b\b\b\b\b\b\b\b\b\b\b\b\b\b\b\b\b\b\b\b\b\b\b\b\b\b\b\b\b\b\b\b\b\b\b\b\b\b\b\b\b\b\b\b\b\b\b\b\b\b\b\b\b\b\b\b\b\b\b\b\b\b\b\r",
      "5/6 [========================>.....] - ETA: 0s - loss: 0.1746 - auc: 0.9637"
     ]
    },
    {
     "name": "stdout",
     "output_type": "stream",
     "text": [
      "\b\b\b\b\b\b\b\b\b\b\b\b\b\b\b\b\b\b\b\b\b\b\b\b\b\b\b\b\b\b\b\b\b\b\b\b\b\b\b\b\b\b\b\b\b\b\b\b\b\b\b\b\b\b\b\b\b\b\b\b\b\b\b\b\b\b\b\b\b\b\b\b\b\b\b\r",
      "6/6 [==============================] - ETA: 0s - loss: 0.1747 - auc: 0.9656"
     ]
    },
    {
     "name": "stdout",
     "output_type": "stream",
     "text": [
      "\b\b\b\b\b\b\b\b\b\b\b\b\b\b\b\b\b\b\b\b\b\b\b\b\b\b\b\b\b\b\b\b\b\b\b\b\b\b\b\b\b\b\b\b\b\b\b\b\b\b\b\b\b\b\b\b\b\b\b\b\b\b\b\b\b\b\b\b\b\b\b\b\b\b\b\r",
      "6/6 [==============================] - 3s 487ms/step - loss: 0.1747 - auc: 0.9656 - val_loss: 0.6308 - val_auc: 0.5927\n"
     ]
    },
    {
     "name": "stdout",
     "output_type": "stream",
     "text": [
      "Epoch 9/10\n"
     ]
    },
    {
     "name": "stdout",
     "output_type": "stream",
     "text": [
      "\r",
      "1/6 [====>.........................] - ETA: 2s - loss: 0.1632 - auc: 0.9755"
     ]
    },
    {
     "name": "stdout",
     "output_type": "stream",
     "text": [
      "\b\b\b\b\b\b\b\b\b\b\b\b\b\b\b\b\b\b\b\b\b\b\b\b\b\b\b\b\b\b\b\b\b\b\b\b\b\b\b\b\b\b\b\b\b\b\b\b\b\b\b\b\b\b\b\b\b\b\b\b\b\b\b\b\b\b\b\b\b\b\b\b\b\b\b\r",
      "2/6 [=========>....................] - ETA: 1s - loss: 0.1609 - auc: 0.9681"
     ]
    },
    {
     "name": "stdout",
     "output_type": "stream",
     "text": [
      "\b\b\b\b\b\b\b\b\b\b\b\b\b\b\b\b\b\b\b\b\b\b\b\b\b\b\b\b\b\b\b\b\b\b\b\b\b\b\b\b\b\b\b\b\b\b\b\b\b\b\b\b\b\b\b\b\b\b\b\b\b\b\b\b\b\b\b\b\b\b\b\b\b\b\b\r",
      "3/6 [==============>...............] - ETA: 1s - loss: 0.1538 - auc: 0.9748"
     ]
    },
    {
     "name": "stdout",
     "output_type": "stream",
     "text": [
      "\b\b\b\b\b\b\b\b\b\b\b\b\b\b\b\b\b\b\b\b\b\b\b\b\b\b\b\b\b\b\b\b\b\b\b\b\b\b\b\b\b\b\b\b\b\b\b\b\b\b\b\b\b\b\b\b\b\b\b\b\b\b\b\b\b\b\b\b\b\b\b\b\b\b\b\r",
      "4/6 [===================>..........] - ETA: 0s - loss: 0.1507 - auc: 0.9672"
     ]
    },
    {
     "name": "stdout",
     "output_type": "stream",
     "text": [
      "\b\b\b\b\b\b\b\b\b\b\b\b\b\b\b\b\b\b\b\b\b\b\b\b\b\b\b\b\b\b\b\b\b\b\b\b\b\b\b\b\b\b\b\b\b\b\b\b\b\b\b\b\b\b\b\b\b\b\b\b\b\b\b\b\b\b\b\b\b\b\b\b\b\b\b\r",
      "5/6 [========================>.....] - ETA: 0s - loss: 0.1510 - auc: 0.9645"
     ]
    },
    {
     "name": "stdout",
     "output_type": "stream",
     "text": [
      "\b\b\b\b\b\b\b\b\b\b\b\b\b\b\b\b\b\b\b\b\b\b\b\b\b\b\b\b\b\b\b\b\b\b\b\b\b\b\b\b\b\b\b\b\b\b\b\b\b\b\b\b\b\b\b\b\b\b\b\b\b\b\b\b\b\b\b\b\b\b\b\b\b\b\b\r",
      "6/6 [==============================] - ETA: 0s - loss: 0.1507 - auc: 0.9656"
     ]
    },
    {
     "name": "stdout",
     "output_type": "stream",
     "text": [
      "\b\b\b\b\b\b\b\b\b\b\b\b\b\b\b\b\b\b\b\b\b\b\b\b\b\b\b\b\b\b\b\b\b\b\b\b\b\b\b\b\b\b\b\b\b\b\b\b\b\b\b\b\b\b\b\b\b\b\b\b\b\b\b\b\b\b\b\b\b\b\b\b\b\b\b\r",
      "6/6 [==============================] - 3s 408ms/step - loss: 0.1507 - auc: 0.9656 - val_loss: 0.5988 - val_auc: 0.5986\n"
     ]
    },
    {
     "name": "stdout",
     "output_type": "stream",
     "text": [
      "Epoch 10/10\n"
     ]
    },
    {
     "name": "stdout",
     "output_type": "stream",
     "text": [
      "\r",
      "1/6 [====>.........................] - ETA: 2s - loss: 0.1351 - auc: 0.9747"
     ]
    },
    {
     "name": "stdout",
     "output_type": "stream",
     "text": [
      "\b\b\b\b\b\b\b\b\b\b\b\b\b\b\b\b\b\b\b\b\b\b\b\b\b\b\b\b\b\b\b\b\b\b\b\b\b\b\b\b\b\b\b\b\b\b\b\b\b\b\b\b\b\b\b\b\b\b\b\b\b\b\b\b\b\b\b\b\b\b\b\b\b\b\b\r",
      "2/6 [=========>....................] - ETA: 1s - loss: 0.1345 - auc: 0.9792"
     ]
    },
    {
     "name": "stdout",
     "output_type": "stream",
     "text": [
      "\b\b\b\b\b\b\b\b\b\b\b\b\b\b\b\b\b\b\b\b\b\b\b\b\b\b\b\b\b\b\b\b\b\b\b\b\b\b\b\b\b\b\b\b\b\b\b\b\b\b\b\b\b\b\b\b\b\b\b\b\b\b\b\b\b\b\b\b\b\b\b\b\b\b\b\r",
      "3/6 [==============>...............] - ETA: 1s - loss: 0.1275 - auc: 0.9856"
     ]
    },
    {
     "name": "stdout",
     "output_type": "stream",
     "text": [
      "\b\b\b\b\b\b\b\b\b\b\b\b\b\b\b\b\b\b\b\b\b\b\b\b\b\b\b\b\b\b\b\b\b\b\b\b\b\b\b\b\b\b\b\b\b\b\b\b\b\b\b\b\b\b\b\b\b\b\b\b\b\b\b\b\b\b\b\b\b\b\b\b\b\b\b\r",
      "4/6 [===================>..........] - ETA: 0s - loss: 0.1282 - auc: 0.9775"
     ]
    },
    {
     "name": "stdout",
     "output_type": "stream",
     "text": [
      "\b\b\b\b\b\b\b\b\b\b\b\b\b\b\b\b\b\b\b\b\b\b\b\b\b\b\b\b\b\b\b\b\b\b\b\b\b\b\b\b\b\b\b\b\b\b\b\b\b\b\b\b\b\b\b\b\b\b\b\b\b\b\b\b\b\b\b\b\b\b\b\b\b\b\b\r",
      "5/6 [========================>.....] - ETA: 0s - loss: 0.1298 - auc: 0.9730"
     ]
    },
    {
     "name": "stdout",
     "output_type": "stream",
     "text": [
      "\b\b\b\b\b\b\b\b\b\b\b\b\b\b\b\b\b\b\b\b\b\b\b\b\b\b\b\b\b\b\b\b\b\b\b\b\b\b\b\b\b\b\b\b\b\b\b\b\b\b\b\b\b\b\b\b\b\b\b\b\b\b\b\b\b\b\b\b\b\b\b\b\b\b\b\r",
      "6/6 [==============================] - ETA: 0s - loss: 0.1293 - auc: 0.9751"
     ]
    },
    {
     "name": "stdout",
     "output_type": "stream",
     "text": [
      "\b\b\b\b\b\b\b\b\b\b\b\b\b\b\b\b\b\b\b\b\b\b\b\b\b\b\b\b\b\b\b\b\b\b\b\b\b\b\b\b\b\b\b\b\b\b\b\b\b\b\b\b\b\b\b\b\b\b\b\b\b\b\b\b\b\b\b\b\b\b\b\b\b\b\b\r",
      "6/6 [==============================] - 2s 394ms/step - loss: 0.1293 - auc: 0.9751 - val_loss: 0.7594 - val_auc: 0.6013\n"
     ]
    }
   ],
   "source": [
    "# Now train the model\n",
    "\n",
    "def calculate_class_weights(y_train):\n",
    "    ratio_true = sum(y_train[\"isWater\"] == 1) / len(y_train[\"isWater\"])\n",
    "    ratio_false = sum(y_train[\"isWater\"] != 1) / len(y_train[\"isWater\"])\n",
    "\n",
    "    return {0: ratio_true, 1: ratio_false}\n",
    "\n",
    "\n",
    "estimator = model.fit(X_train, y_train, \n",
    "                      validation_data=(X_test, y_test),\n",
    "                      class_weight= calculate_class_weights(y_train),\n",
    "                      epochs=MODEL_EPOCHS, \n",
    "                      batch_size=MODEL_BATCH_SIZE,\n",
    "                      verbose=1)"
   ]
  },
  {
   "cell_type": "markdown",
   "id": "5a467747",
   "metadata": {
    "papermill": {
     "duration": 0.005115,
     "end_time": "2022-08-31T12:42:11.293510",
     "exception": false,
     "start_time": "2022-08-31T12:42:11.288395",
     "status": "completed"
    },
    "tags": []
   },
   "source": [
    "## Plot training history and save model"
   ]
  },
  {
   "cell_type": "code",
   "execution_count": 11,
   "id": "c2a250ff",
   "metadata": {
    "execution": {
     "iopub.execute_input": "2022-08-31T12:42:11.305208Z",
     "iopub.status.busy": "2022-08-31T12:42:11.305027Z",
     "iopub.status.idle": "2022-08-31T12:42:12.442735Z",
     "shell.execute_reply": "2022-08-31T12:42:12.442353Z"
    },
    "papermill": {
     "duration": 1.14531,
     "end_time": "2022-08-31T12:42:12.444348",
     "exception": false,
     "start_time": "2022-08-31T12:42:11.299038",
     "status": "completed"
    },
    "tags": []
   },
   "outputs": [
    {
     "data": {
      "image/png": "[encoded data removed]",
      "text/plain": [
       "<Figure size 432x288 with 1 Axes>"
      ]
     },
     "metadata": {
      "needs_background": "light"
     },
     "output_type": "display_data"
    },
    {
     "name": "stderr",
     "output_type": "stream",
     "text": [
      "WARNING:absl:Found untraced functions such as _jit_compiled_convolution_op, _jit_compiled_convolution_op while saving (showing 2 of 2). These functions will not be directly callable after loading.\n"
     ]
    },
    {
     "name": "stdout",
     "output_type": "stream",
     "text": [
      "INFO:tensorflow:Assets written to: ram://d3fb32d0-ab14-4a4c-bd2c-1a47be16fb83/assets\n"
     ]
    },
    {
     "name": "stderr",
     "output_type": "stream",
     "text": [
      "INFO:tensorflow:Assets written to: ram://d3fb32d0-ab14-4a4c-bd2c-1a47be16fb83/assets\n"
     ]
    }
   ],
   "source": [
    "# Training history\n",
    "plt.figure()\n",
    "plt.ylabel('Loss / Accuracy')\n",
    "plt.xlabel('Epoch')\n",
    "\n",
    "for k in estimator.history.keys():\n",
    "    plt.plot(estimator.history[k], label = k) \n",
    "plt.legend(loc='best')\n",
    "\n",
    "plt.savefig(PROJECT_ROOT / \"outputs\" / \"train_history.png\", dpi=150, bbox_inches='tight', pad_inches=0)\n",
    "plt.show()\n",
    "\n",
    "# Save model itself\n",
    "pickle.dump(estimator, open(PROJECT_ROOT / \"outputs\" / \"model.pckl\", \"wb\"))"
   ]
  },
  {
   "cell_type": "markdown",
   "id": "72f3c9a0",
   "metadata": {
    "papermill": {
     "duration": 0.004968,
     "end_time": "2022-08-31T12:42:12.454631",
     "exception": false,
     "start_time": "2022-08-31T12:42:12.449663",
     "status": "completed"
    },
    "tags": []
   },
   "source": [
    "## Validation"
   ]
  },
  {
   "cell_type": "code",
   "execution_count": 12,
   "id": "5bda34ad",
   "metadata": {
    "execution": {
     "iopub.execute_input": "2022-08-31T12:42:12.466945Z",
     "iopub.status.busy": "2022-08-31T12:42:12.466782Z",
     "iopub.status.idle": "2022-08-31T12:42:12.628468Z",
     "shell.execute_reply": "2022-08-31T12:42:12.628125Z"
    },
    "papermill": {
     "duration": 0.169237,
     "end_time": "2022-08-31T12:42:12.629480",
     "exception": false,
     "start_time": "2022-08-31T12:42:12.460243",
     "status": "completed"
    },
    "tags": []
   },
   "outputs": [
    {
     "name": "stdout",
     "output_type": "stream",
     "text": [
      "0.94356716\n"
     ]
    },
    {
     "name": "stderr",
     "output_type": "stream",
     "text": [
      "2022-08-31 14:42:12.535885: I tensorflow/core/grappler/optimizers/custom_graph_optimizer_registry.cc:113] Plugin optimizer for device_type GPU is enabled.\n"
     ]
    },
    {
     "data": {
      "image/png": "[encoded data removed]",
      "text/plain": [
       "<Figure size 432x288 with 1 Axes>"
      ]
     },
     "metadata": {
      "needs_background": "light"
     },
     "output_type": "display_data"
    }
   ],
   "source": [
    "def predict_pokemon(id: str, verbose=0):\n",
    "    \n",
    "    while len(id) < 3:\n",
    "        id = \"0\" + id\n",
    "    \n",
    "    img = tf.keras.utils.load_img(f'{PROJECT_ROOT}/data/processed/pokemon/{id}.png', color_mode='rgba')\n",
    "    img = tf.keras.utils.img_to_array(img)\n",
    "    img = img/255\n",
    "\n",
    "\n",
    "    classes = y\n",
    "    proba = model.predict(img.reshape(1,475,475,4), verbose=verbose)\n",
    "    \n",
    "    plt.clf()\n",
    "    plt.imshow(img)\n",
    "    \n",
    "    return proba[0][0]\n",
    "\n",
    "print(predict_pokemon(\"258\"))"
   ]
  },
  {
   "cell_type": "code",
   "execution_count": 13,
   "id": "41d30b83",
   "metadata": {
    "execution": {
     "iopub.execute_input": "2022-08-31T12:42:12.641800Z",
     "iopub.status.busy": "2022-08-31T12:42:12.641643Z",
     "iopub.status.idle": "2022-08-31T12:42:15.208148Z",
     "shell.execute_reply": "2022-08-31T12:42:15.207820Z"
    },
    "papermill": {
     "duration": 2.573943,
     "end_time": "2022-08-31T12:42:15.209380",
     "exception": false,
     "start_time": "2022-08-31T12:42:12.635437",
     "status": "completed"
    },
    "tags": []
   },
   "outputs": [
    {
     "name": "stdout",
     "output_type": "stream",
     "text": [
      "\r",
      " 1/26 [>.............................] - ETA: 9s"
     ]
    },
    {
     "name": "stdout",
     "output_type": "stream",
     "text": [
      "\b\b\b\b\b\b\b\b\b\b\b\b\b\b\b\b\b\b\b\b\b\b\b\b\b\b\b\b\b\b\b\b\b\b\b\b\b\b\b\b\b\b\b\b\b\b\b\b\r",
      " 2/26 [=>............................] - ETA: 1s"
     ]
    },
    {
     "name": "stdout",
     "output_type": "stream",
     "text": [
      "\b\b\b\b\b\b\b\b\b\b\b\b\b\b\b\b\b\b\b\b\b\b\b\b\b\b\b\b\b\b\b\b\b\b\b\b\b\b\b\b\b\b\b\b\b\b\b\b\r",
      " 4/26 [===>..........................] - ETA: 0s"
     ]
    },
    {
     "name": "stdout",
     "output_type": "stream",
     "text": [
      "\b\b\b\b\b\b\b\b\b\b\b\b\b\b\b\b\b\b\b\b\b\b\b\b\b\b\b\b\b\b\b\b\b\b\b\b\b\b\b\b\b\b\b\b\b\b\b\b\r",
      " 6/26 [=====>........................] - ETA: 0s"
     ]
    },
    {
     "name": "stdout",
     "output_type": "stream",
     "text": [
      "\b\b\b\b\b\b\b\b\b\b\b\b\b\b\b\b\b\b\b\b\b\b\b\b\b\b\b\b\b\b\b\b\b\b\b\b\b\b\b\b\b\b\b\b\b\b\b\b\r",
      " 8/26 [========>.....................] - ETA: 0s"
     ]
    },
    {
     "name": "stdout",
     "output_type": "stream",
     "text": [
      "\b\b\b\b\b\b\b\b\b\b\b\b\b\b\b\b\b\b\b\b\b\b\b\b\b\b\b\b\b\b\b\b\b\b\b\b\b\b\b\b\b\b\b\b\b\b\b\b\r",
      "10/26 [==========>...................] - ETA: 0s"
     ]
    },
    {
     "name": "stdout",
     "output_type": "stream",
     "text": [
      "\b\b\b\b\b\b\b\b\b\b\b\b\b\b\b\b\b\b\b\b\b\b\b\b\b\b\b\b\b\b\b\b\b\b\b\b\b\b\b\b\b\b\b\b\b\b\b\b\r",
      "12/26 [============>.................] - ETA: 0s"
     ]
    },
    {
     "name": "stdout",
     "output_type": "stream",
     "text": [
      "\b\b\b\b\b\b\b\b\b\b\b\b\b\b\b\b\b\b\b\b\b\b\b\b\b\b\b\b\b\b\b\b\b\b\b\b\b\b\b\b\b\b\b\b\b\b\b\b\r",
      "14/26 [===============>..............] - ETA: 0s"
     ]
    },
    {
     "name": "stdout",
     "output_type": "stream",
     "text": [
      "\b\b\b\b\b\b\b\b\b\b\b\b\b\b\b\b\b\b\b\b\b\b\b\b\b\b\b\b\b\b\b\b\b\b\b\b\b\b\b\b\b\b\b\b\b\b\b\b\r",
      "16/26 [=================>............] - ETA: 0s"
     ]
    },
    {
     "name": "stdout",
     "output_type": "stream",
     "text": [
      "\b\b\b\b\b\b\b\b\b\b\b\b\b\b\b\b\b\b\b\b\b\b\b\b\b\b\b\b\b\b\b\b\b\b\b\b\b\b\b\b\b\b\b\b\b\b\b\b\r",
      "18/26 [===================>..........] - ETA: 0s"
     ]
    },
    {
     "name": "stdout",
     "output_type": "stream",
     "text": [
      "\b\b\b\b\b\b\b\b\b\b\b\b\b\b\b\b\b\b\b\b\b\b\b\b\b\b\b\b\b\b\b\b\b\b\b\b\b\b\b\b\b\b\b\b\b\b\b\b\r",
      "20/26 [======================>.......] - ETA: 0s"
     ]
    },
    {
     "name": "stdout",
     "output_type": "stream",
     "text": [
      "\b\b\b\b\b\b\b\b\b\b\b\b\b\b\b\b\b\b\b\b\b\b\b\b\b\b\b\b\b\b\b\b\b\b\b\b\b\b\b\b\b\b\b\b\b\b\b\b\r",
      "22/26 [========================>.....] - ETA: 0s"
     ]
    },
    {
     "name": "stdout",
     "output_type": "stream",
     "text": [
      "\b\b\b\b\b\b\b\b\b\b\b\b\b\b\b\b\b\b\b\b\b\b\b\b\b\b\b\b\b\b\b\b\b\b\b\b\b\b\b\b\b\b\b\b\b\b\b\b\r",
      "24/26 [==========================>...] - ETA: 0s"
     ]
    },
    {
     "name": "stdout",
     "output_type": "stream",
     "text": [
      "\b\b\b\b\b\b\b\b\b\b\b\b\b\b\b\b\b\b\b\b\b\b\b\b\b\b\b\b\b\b\b\b\b\b\b\b\b\b\b\b\b\b\b\b\b\b\b\b\r",
      "26/26 [==============================] - 1s 35ms/step\n"
     ]
    },
    {
     "data": {
      "image/png": "[encoded data removed]",
      "text/plain": [
       "<Figure size 432x288 with 2 Axes>"
      ]
     },
     "metadata": {
      "needs_background": "light"
     },
     "output_type": "display_data"
    }
   ],
   "source": [
    "predictions = model.predict(X) > 0.5\n",
    "cm = confusion_matrix(y, predictions)\n",
    "\n",
    "disp = ConfusionMatrixDisplay(confusion_matrix=cm)\n",
    "disp.plot()\n",
    "\n",
    "plt.savefig(PROJECT_ROOT / \"outputs\" / \"confusion_matrix.png\", dpi=150, bbox_inches='tight', pad_inches=0)\n",
    "plt.show()"
   ]
  },
  {
   "cell_type": "markdown",
   "id": "c960acc1",
   "metadata": {
    "papermill": {
     "duration": 0.006532,
     "end_time": "2022-08-31T12:42:15.222186",
     "exception": false,
     "start_time": "2022-08-31T12:42:15.215654",
     "status": "completed"
    },
    "tags": []
   },
   "source": [
    "*Attribution*:\n",
    "\n",
    "- https://github.com/benckx/dnn-movie-posters\n",
    "- https://medium.com/m2mtechconnect/classifying-pok%C3%A9mon-images-with-machine-learning-79b9bc07c080\n",
    "- https://www.kaggle.com/datasets/rounakbanik/pokemon"
   ]
  }
 ],
 "metadata": {
  "celltoolbar": "Tags",
  "kernelspec": {
   "display_name": "Python 3 (ipykernel)",
   "language": "python",
   "name": "python3"
  },
  "language_info": {
   "codemirror_mode": {
    "name": "ipython",
    "version": 3
   },
   "file_extension": ".py",
   "mimetype": "text/x-python",
   "name": "python",
   "nbconvert_exporter": "python",
   "pygments_lexer": "ipython3",
   "version": "3.9.13"
  },
  "papermill": {
   "default_parameters": {},
   "duration": 48.830906,
   "end_time": "2022-08-31T12:42:18.456284",
   "environment_variables": {},
   "exception": null,
   "input_path": "notebooks/pokemon_classifier.ipynb",
   "output_path": "outputs/pokemon_classifier_out.ipynb",
   "parameters": {},
   "start_time": "2022-08-31T12:41:29.625378",
   "version": "2.4.0"
  },
  "vscode": {
   "interpreter": {
    "hash": "adfa5400c33c3eb8ae0d2dbb26097a67da7859b6917822b382ea60a42be13f69"
   }
  }
 },
 "nbformat": 4,
 "nbformat_minor": 5
}