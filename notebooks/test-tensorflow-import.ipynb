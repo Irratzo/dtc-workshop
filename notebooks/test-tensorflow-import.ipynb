{
 "cells": [
  {
   "cell_type": "markdown",
   "id": "c015ecd9",
   "metadata": {},
   "source": [
    "# Project environment info\n",
    "\n",
    "Project's virtual environment `./venv/` created with venv/pip from `requirements-no-constraints.txt`.\n",
    "\n",
    "```\n",
    "jupyterlab\n",
    "notebook\n",
    "dvc[all]\n",
    "tensorflow\n",
    "pandas\n",
    "pillow\n",
    "matplotlib\n",
    "scikit-learn\n",
    "isort\n",
    "pickle-mixin\n",
    "```"
   ]
  },
  {
   "cell_type": "markdown",
   "id": "54de9096-b1fa-41ef-bd92-6870d6c75547",
   "metadata": {},
   "source": [
    "# JupyterLab from cmdline\n",
    "\n",
    "Output from JupyterLab started in command line.\n",
    "\n",
    "Started via \n",
    "\n",
    "```\n",
    "cd project\n",
    "source ./venv/bin/activate\n",
    "jupyter-lab ./\n",
    "```"
   ]
  },
  {
   "cell_type": "code",
   "execution_count": 1,
   "id": "53d5dabb",
   "metadata": {
    "tags": []
   },
   "outputs": [
    {
     "name": "stdout",
     "output_type": "stream",
     "text": [
      "/Users/wasmer/src/forks/dtc-workshop-pycharm/venv/bin/python\n"
     ]
    }
   ],
   "source": [
    "!which python"
   ]
  },
  {
   "cell_type": "code",
   "execution_count": 2,
   "id": "07d1520e",
   "metadata": {
    "tags": []
   },
   "outputs": [],
   "source": [
    "import notebook, jupyterlab, pandas, tensorflow"
   ]
  },
  {
   "cell_type": "code",
   "execution_count": 3,
   "id": "d6f843f5",
   "metadata": {
    "tags": []
   },
   "outputs": [
    {
     "name": "stdout",
     "output_type": "stream",
     "text": [
      "/Users/wasmer/src/forks/dtc-workshop-pycharm/venv/lib/python3.10/site-packages/notebook/__init__.py\n",
      "/Users/wasmer/src/forks/dtc-workshop-pycharm/venv/lib/python3.10/site-packages/jupyterlab/__init__.py\n",
      "/Users/wasmer/src/forks/dtc-workshop-pycharm/venv/lib/python3.10/site-packages/pandas/__init__.py\n",
      "/Users/wasmer/src/forks/dtc-workshop-pycharm/venv/lib/python3.10/site-packages/tensorflow/__init__.py\n"
     ]
    },
    {
     "data": {
      "text/plain": [
       "[None, None, None, None]"
      ]
     },
     "execution_count": 3,
     "metadata": {},
     "output_type": "execute_result"
    }
   ],
   "source": [
    "[print(f\"{p.__file__}\") for p in [notebook, jupyterlab, pandas, tensorflow]]"
   ]
  },
  {
   "cell_type": "markdown",
   "id": "a811354e",
   "metadata": {},
   "source": [
    "# Jupyter Notebook from cmdline\n",
    "\n",
    "Output from Jupyter Notebook started in command line.\n",
    "\n",
    "Started via \n",
    "\n",
    "```\n",
    "cd project\n",
    "source ./venv/bin/activate\n",
    "jupyter notebook ./\n",
    "```"
   ]
  },
  {
   "cell_type": "code",
   "execution_count": 1,
   "id": "cbccd988",
   "metadata": {},
   "outputs": [
    {
     "name": "stdout",
     "output_type": "stream",
     "text": [
      "/Users/wasmer/src/forks/dtc-workshop-pycharm/venv/bin/python\n"
     ]
    }
   ],
   "source": [
    "!which python"
   ]
  },
  {
   "cell_type": "code",
   "execution_count": 3,
   "id": "0fa6af10",
   "metadata": {},
   "outputs": [],
   "source": [
    "import notebook, jupyterlab, pandas, tensorflow"
   ]
  },
  {
   "cell_type": "code",
   "execution_count": 4,
   "id": "45100867",
   "metadata": {},
   "outputs": [
    {
     "name": "stdout",
     "output_type": "stream",
     "text": [
      "/Users/wasmer/src/forks/dtc-workshop-pycharm/venv/lib/python3.10/site-packages/notebook/__init__.py\n",
      "/Users/wasmer/src/forks/dtc-workshop-pycharm/venv/lib/python3.10/site-packages/jupyterlab/__init__.py\n",
      "/Users/wasmer/src/forks/dtc-workshop-pycharm/venv/lib/python3.10/site-packages/pandas/__init__.py\n",
      "/Users/wasmer/src/forks/dtc-workshop-pycharm/venv/lib/python3.10/site-packages/tensorflow/__init__.py\n"
     ]
    },
    {
     "data": {
      "text/plain": [
       "[None, None, None, None]"
      ]
     },
     "execution_count": 4,
     "metadata": {},
     "output_type": "execute_result"
    }
   ],
   "source": [
    "[print(f\"{p.__file__}\") for p in [notebook, jupyterlab, pandas, tensorflow]]"
   ]
  },
  {
   "cell_type": "markdown",
   "id": "60c4681b-bdee-422a-aeef-1352079729b1",
   "metadata": {},
   "source": [
    "# Jupyter Notebook from PyCharm\n",
    "\n",
    "Output from Jupyter Notebook started in PyCharm.\n",
    "\n",
    "Started via PyCharm > project > open `test-tensorflow-import.ipynb` inside PyCharm.\n",
    "\n",
    "Project interpreter selected as `project/venv/bin/python`.\n",
    "\n",
    "Notebook kernel selected as Python 3."
   ]
  },
  {
   "cell_type": "code",
   "execution_count": 1,
   "id": "82d07702",
   "metadata": {
    "ExecuteTime": {
     "end_time": "2023-05-16T11:19:48.081336Z",
     "start_time": "2023-05-16T11:19:47.958985Z"
    }
   },
   "outputs": [
    {
     "name": "stdout",
     "output_type": "stream",
     "text": [
      "/Users/wasmer/src/forks/dtc-workshop-pycharm/venv/bin/python\r\n"
     ]
    }
   ],
   "source": [
    "!which python"
   ]
  },
  {
   "cell_type": "code",
   "execution_count": 2,
   "id": "3604ae95",
   "metadata": {
    "ExecuteTime": {
     "end_time": "2023-05-16T11:19:51.470791Z",
     "start_time": "2023-05-16T11:19:48.084698Z"
    }
   },
   "outputs": [],
   "source": [
    "import notebook, jupyterlab, pandas, tensorflow"
   ]
  },
  {
   "cell_type": "code",
   "execution_count": 3,
   "id": "32848429",
   "metadata": {
    "ExecuteTime": {
     "end_time": "2023-05-16T11:19:51.481059Z",
     "start_time": "2023-05-16T11:19:51.472353Z"
    }
   },
   "outputs": [
    {
     "name": "stdout",
     "output_type": "stream",
     "text": [
      "/Users/wasmer/src/forks/dtc-workshop-pycharm/venv/lib/python3.10/site-packages/notebook/__init__.py\n",
      "/Users/wasmer/src/forks/dtc-workshop-pycharm/venv/lib/python3.10/site-packages/jupyterlab/__init__.py\n",
      "/Users/wasmer/src/forks/dtc-workshop-pycharm/venv/lib/python3.10/site-packages/pandas/__init__.py\n",
      "/Users/wasmer/src/forks/dtc-workshop-pycharm/venv/lib/python3.10/site-packages/tensorflow/__init__.py\n"
     ]
    },
    {
     "data": {
      "text/plain": [
       "[None, None, None, None]"
      ]
     },
     "execution_count": 3,
     "metadata": {},
     "output_type": "execute_result"
    }
   ],
   "source": [
    "[print(f\"{p.__file__}\") for p in [notebook, jupyterlab, pandas, tensorflow]]"
   ]
  },
  {
   "cell_type": "markdown",
   "id": "49392f92",
   "metadata": {},
   "source": [
    "# Jupyter Notebook from PyCharm > Browser\n",
    "\n",
    "Output from Jupyter Notebook started in PyCharm in browser.\n",
    "\n",
    "Started via PyCharm > project > open `test-tensorflow-import.ipynb` inside PyCharm > \"Open notebook in browser\".\n",
    "\n",
    "Project interpreter selected as `project/venv/bin/python`.\n",
    "\n",
    "Notebook kernel selected as Python 3."
   ]
  },
  {
   "cell_type": "code",
   "execution_count": 1,
   "id": "1f82cc9e",
   "metadata": {},
   "outputs": [
    {
     "name": "stdout",
     "output_type": "stream",
     "text": [
      "/Users/wasmer/src/forks/dtc-workshop-pycharm/venv/bin/python\r\n"
     ]
    }
   ],
   "source": [
    "!which python"
   ]
  },
  {
   "cell_type": "code",
   "execution_count": 2,
   "id": "1c666426",
   "metadata": {},
   "outputs": [],
   "source": [
    "import notebook, jupyterlab, pandas, tensorflow"
   ]
  },
  {
   "cell_type": "code",
   "execution_count": 3,
   "id": "6a7cd7b1",
   "metadata": {},
   "outputs": [
    {
     "name": "stdout",
     "output_type": "stream",
     "text": [
      "/Users/wasmer/src/forks/dtc-workshop-pycharm/venv/lib/python3.10/site-packages/notebook/__init__.py\n",
      "/Users/wasmer/src/forks/dtc-workshop-pycharm/venv/lib/python3.10/site-packages/jupyterlab/__init__.py\n",
      "/Users/wasmer/src/forks/dtc-workshop-pycharm/venv/lib/python3.10/site-packages/pandas/__init__.py\n",
      "/Users/wasmer/src/forks/dtc-workshop-pycharm/venv/lib/python3.10/site-packages/tensorflow/__init__.py\n"
     ]
    },
    {
     "data": {
      "text/plain": [
       "[None, None, None, None]"
      ]
     },
     "execution_count": 3,
     "metadata": {},
     "output_type": "execute_result"
    }
   ],
   "source": [
    "[print(f\"{p.__file__}\") for p in [notebook, jupyterlab, pandas, tensorflow]]"
   ]
  }
 ],
 "metadata": {
  "@webio": {
   "lastCommId": null,
   "lastKernelId": null
  },
  "kernelspec": {
   "display_name": "Python 3 (ipykernel)",
   "language": "python",
   "name": "python3"
  },
  "language_info": {
   "codemirror_mode": {
    "name": "ipython",
    "version": 3
   },
   "file_extension": ".py",
   "mimetype": "text/x-python",
   "name": "python",
   "nbconvert_exporter": "python",
   "pygments_lexer": "ipython3",
   "version": "3.10.9"
  }
 },
 "nbformat": 4,
 "nbformat_minor": 5
}
