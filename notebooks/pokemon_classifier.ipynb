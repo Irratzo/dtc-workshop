{
 "cells": [
  {
   "cell_type": "code",
   "execution_count": 57,
   "id": "04cb1f0e",
   "metadata": {},
   "outputs": [],
   "source": [
    "import os\n",
    "import shutil\n",
    "\n",
    "import tensorflow as tf\n",
    "from tensorflow import keras\n",
    "from tensorflow.keras import layers\n",
    "\n",
    "import pandas as pd"
   ]
  },
  {
   "cell_type": "code",
   "execution_count": 106,
   "metadata": {},
   "outputs": [],
   "source": [
    "# Process Pokémon and one-hot encode the types\n",
    "\n",
    "pokemon = pd.read_csv('../data/external/stats/pokemon.csv')\n",
    "pokemon = pokemon[[\"#\", \"Name\", \"Type 1\", \"Type 2\"]]\n",
    "\n",
    "types = set(pokemon[\"Type 1\"])\n",
    "for t in types:\n",
    "    pokemon[\"is\" + str(t)] = 0\n",
    "\n",
    "for i, p in pokemon.iterrows():\n",
    "    pokemon.loc[i, \"is\" + p[\"Type 1\"]] = 1\n",
    "\n",
    "    if not pd.isna(p[\"Type 2\"]):\n",
    "        pokemon.loc[i, \"is\" + p[\"Type 2\"]] = 1\n",
    "\n",
    "# Save output\n",
    "pokemon.to_csv('../data/processed/pokemon.csv')\n",
    "\n"
   ]
  },
  {
   "cell_type": "code",
   "execution_count": 107,
   "id": "68c9145e",
   "metadata": {},
   "outputs": [],
   "source": [
    "# Categorise Pokémon into folders per type\n",
    "\n",
    "data_directory_images = \"../data/external/images-gen-1-6\"\n",
    "output_directory = \"../data/processed/pokemon\"\n",
    "\n",
    "pokemon = pd.read_csv('../data/processed/pokemon.csv')\n",
    "\n",
    "# Remove processed folder and create empty new one\n",
    "try:\n",
    "    shutil.rmtree(output_directory)\n",
    "    os.mkdir(output_directory)\n",
    "except:\n",
    "    os.mkdir(output_directory)\n",
    "\n",
    "# Create class folders for each Pokemon type\n",
    "types = set(stats[\"Type 1\"])\n",
    "for t in types:\n",
    "    os.mkdir(output_directory + \"/\" + t)\n",
    "\n",
    "# Copy images to folders per type\n",
    "# If a Pokemon has two types, it'll end up in two folders\n",
    "for pokemon in os.listdir(data_directory_images):\n",
    "    pokemon_id = pokemon.split('.')[0]\n",
    "\n",
    "    # Remove Pokemon with subtypes\n",
    "    if not pokemon_id.isnumeric():\n",
    "        continue\n",
    "\n",
    "    type1 = stats.loc[stats[\"#\"] == int(pokemon_id), 'Type 1'].values[0]\n",
    "    type2 = stats.loc[stats[\"#\"] == int(pokemon_id), 'Type 2'].values[0]\n",
    "\n",
    "    # Copy to type folder\n",
    "    src = data_directory_images + \"/\" + pokemon\n",
    "    dst = output_directory + \"/\" + type1 + \"/\" + pokemon_id + \".png\"\n",
    "\n",
    "    shutil.copyfile(src, dst)\n",
    "\n",
    "    # If Pokemon has second type, copy there as well\n",
    "    if not pd.isna(type2):\n",
    "        dst = dst2 = output_directory + \"/\" + type2 + \"/\" + pokemon_id + \".png\"\n",
    "        shutil.copyfile(src, dst)"
   ]
  },
  {
   "cell_type": "code",
   "execution_count": null,
   "id": "43dbb2ca",
   "metadata": {},
   "outputs": [],
   "source": []
  },
  {
   "cell_type": "code",
   "execution_count": null,
   "id": "126c1f9e",
   "metadata": {},
   "outputs": [],
   "source": []
  },
  {
   "cell_type": "code",
   "execution_count": null,
   "id": "ca5e6174",
   "metadata": {},
   "outputs": [],
   "source": []
  }
 ],
 "metadata": {
  "kernelspec": {
   "display_name": "Python 3.9.13 ('.venv': venv)",
   "language": "python",
   "name": "python3"
  },
  "language_info": {
   "codemirror_mode": {
    "name": "ipython",
    "version": 3
   },
   "file_extension": ".py",
   "mimetype": "text/x-python",
   "name": "python",
   "nbconvert_exporter": "python",
   "pygments_lexer": "ipython3",
   "version": "3.9.13"
  },
  "vscode": {
   "interpreter": {
    "hash": "adfa5400c33c3eb8ae0d2dbb26097a67da7859b6917822b382ea60a42be13f69"
   }
  }
 },
 "nbformat": 4,
 "nbformat_minor": 5
}
