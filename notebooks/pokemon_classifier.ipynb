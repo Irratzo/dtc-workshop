{
 "cells": [
  {
   "cell_type": "code",
   "execution_count": 45,
   "id": "04cb1f0e",
   "metadata": {},
   "outputs": [],
   "source": [
    "import os\n",
    "import shutil\n",
    "\n",
    "import tensorflow as tf\n",
    "from tensorflow import keras\n",
    "from tensorflow.keras import layers\n",
    "\n",
    "import pandas as pd\n",
    "import numpy as np\n",
    "import math\n",
    "\n",
    "import re"
   ]
  },
  {
   "cell_type": "code",
   "execution_count": 71,
   "id": "e0ac9358",
   "metadata": {},
   "outputs": [
    {
     "name": "stdout",
     "output_type": "stream",
     "text": [
      "   #        Name Variety Type 1  Type 2  isGround  isFighting  isGhost  \\\n",
      "0  1   Bulbasaur  normal  Grass  Poison         0           0        0   \n",
      "1  2     Ivysaur  normal  Grass  Poison         0           0        0   \n",
      "2  3    Venusaur  normal  Grass  Poison         0           0        0   \n",
      "4  4  Charmander  normal   Fire     NaN         0           0        0   \n",
      "5  5  Charmeleon  normal   Fire     NaN         0           0        0   \n",
      "\n",
      "   isNormal  isWater  ...  isPsychic  isBug  isPoison  isElectric  isFairy  \\\n",
      "0         0        0  ...          0      0         1           0        0   \n",
      "1         0        0  ...          0      0         1           0        0   \n",
      "2         0        0  ...          0      0         1           0        0   \n",
      "4         0        0  ...          0      0         0           0        0   \n",
      "5         0        0  ...          0      0         0           0        0   \n",
      "\n",
      "   isIce  isFlying  isDark  isRock  isGrass  \n",
      "0      0         0       0       0        1  \n",
      "1      0         0       0       0        1  \n",
      "2      0         0       0       0        1  \n",
      "4      0         0       0       0        0  \n",
      "5      0         0       0       0        0  \n",
      "\n",
      "[5 rows x 23 columns]\n"
     ]
    }
   ],
   "source": [
    "# Process Pokémon and one-hot encode the types\n",
    "\n",
    "pokemon = pd.read_csv('../data/external/stats/pokemon.csv')\n",
    "pokemon[\"Variety\"] = float(\"NaN\")\n",
    "pokemon = pokemon[[\"#\", \"Name\", \"Variety\", \"Type 1\", \"Type 2\"]]\n",
    "\n",
    "# Create one-hot columns for each type\n",
    "types = set(pokemon[\"Type 1\"])\n",
    "for t in types:\n",
    "    pokemon[\"is\" + str(t)] = 0\n",
    "\n",
    "# Iterate over Pokémon\n",
    "for i, p in pokemon.iterrows():\n",
    "    \n",
    "    # Clean up name\n",
    "    pokemonName = pokemon.loc[i, \"Name\"]\n",
    "    pokemonName = pokemonName.replace(\" \", \"\")\n",
    "    \n",
    "    pokemonNameComponents = re.findall('[A-Z][^A-Z0-9]*', pokemonName)\n",
    "\n",
    "    pokemon.loc[i, \"Name\"] = pokemonNameComponents[0]\n",
    "    \n",
    "    # Set variety (Mega etc.)\n",
    "    if len(pokemonNameComponents) > 1:\n",
    "        pokemonNameComponents = [value for value in pokemonNameComponents if value != pokemonNameComponents[0]]\n",
    "        pokemon.loc[i, \"Variety\"] = str(pokemonNameComponents).lower()\n",
    "    else:\n",
    "        pokemon.loc[i, \"Variety\"] = \"normal\"\n",
    "    \n",
    "    #  Set one-hot columns to 1 for relevant types\n",
    "    pokemon.loc[i, \"is\" + p[\"Type 1\"]] = 1\n",
    "\n",
    "    if not pd.isna(p[\"Type 2\"]):\n",
    "        pokemon.loc[i, \"is\" + p[\"Type 2\"]] = 1\n",
    "\n",
    "# Ditch all Pokemon with varieties (e.g. Megas):\n",
    "pokemon = pokemon[pokemon[\"Variety\"] == \"normal\"]\n",
    "\n",
    "\n",
    "# Save output\n",
    "pokemon.to_csv('../data/processed/pokemon.csv')\n",
    "\n",
    "print(pokemon.head())\n"
   ]
  },
  {
   "cell_type": "code",
   "execution_count": 72,
   "id": "43dbb2ca",
   "metadata": {},
   "outputs": [],
   "source": [
    "# Process image data\n",
    "\n",
    "data_directory_images = \"../data/external/images-gen-1-6\"\n",
    "output_directory = \"../data/processed/pokemon\"\n",
    "\n",
    "pokemon = pd.read_csv('../data/processed/pokemon.csv')\n",
    "pokemon[\"imagePath\"] = np.nan\n",
    "\n",
    "# Remove processed folder and create empty new one\n",
    "try:\n",
    "    shutil.rmtree(output_directory)\n",
    "    os.mkdir(output_directory)\n",
    "except:\n",
    "    os.mkdir(output_directory)\n",
    "\n",
    "# Copy images to processed folder\n",
    "for image in os.listdir(data_directory_images):\n",
    "    pokemon_id = image.split('.')[0]\n",
    "\n",
    "    # Images with no variety (e.g. \"211.png\")\n",
    "    if pokemon_id.isnumeric():\n",
    "        \n",
    "        # Copy to processed folder\n",
    "        src = data_directory_images + \"/\" + image\n",
    "        dst = output_directory + \"/\" + pokemon_id + \".png\"\n",
    "\n",
    "        shutil.copyfile(src, dst)\n",
    "\n",
    "        # Set image path in data frame\n",
    "        pokemon.loc[pokemon[\"#\"] == int(pokemon_id), 'imagePath'] = dst\n",
    "        \n",
    "\n",
    "# # Drop Pokemon without image path\n",
    "pokemon.dropna()\n",
    "\n",
    "# Save pokemon.csv with image paths\n",
    "pokemon.to_csv('../data/processed/pokemon.csv')"
   ]
  },
  {
   "cell_type": "code",
   "execution_count": null,
   "id": "c2215668",
   "metadata": {},
   "outputs": [],
   "source": []
  }
 ],
 "metadata": {
  "kernelspec": {
   "display_name": "Python 3 (ipykernel)",
   "language": "python",
   "name": "python3"
  },
  "language_info": {
   "codemirror_mode": {
    "name": "ipython",
    "version": 3
   },
   "file_extension": ".py",
   "mimetype": "text/x-python",
   "name": "python",
   "nbconvert_exporter": "python",
   "pygments_lexer": "ipython3",
   "version": "3.9.13"
  },
  "vscode": {
   "interpreter": {
    "hash": "adfa5400c33c3eb8ae0d2dbb26097a67da7859b6917822b382ea60a42be13f69"
   }
  }
 },
 "nbformat": 4,
 "nbformat_minor": 5
}
